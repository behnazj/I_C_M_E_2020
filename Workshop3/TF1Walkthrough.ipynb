{
  "nbformat": 4,
  "nbformat_minor": 0,
  "metadata": {
    "colab": {
      "name": "TF1Walkthrough.ipynb",
      "provenance": [],
      "collapsed_sections": [],
      "include_colab_link": true
    },
    "kernelspec": {
      "name": "python3",
      "display_name": "Python 3"
    }
  },
  "cells": [
    {
      "cell_type": "markdown",
      "metadata": {
        "id": "view-in-github",
        "colab_type": "text"
      },
      "source": [
        "<a href=\"https://colab.research.google.com/github/nazbeh/I_C_M_E_2020/blob/master/Workshop3/TF1Walkthrough.ipynb\" target=\"_parent\"><img src=\"https://colab.research.google.com/assets/colab-badge.svg\" alt=\"Open In Colab\"/></a>"
      ]
    },
    {
      "cell_type": "markdown",
      "metadata": {
        "id": "02i6UC99B7pQ",
        "colab_type": "text"
      },
      "source": [
        "# Tensorflow Example\n",
        "\n",
        "Authors: Anjan Dwaraknath and Sherrie Wang\n",
        "\n",
        "In this notebook we will learn some basic tensorflow syntax."
      ]
    },
    {
      "cell_type": "code",
      "metadata": {
        "id": "7wFLt_1kB7pR",
        "colab_type": "code",
        "colab": {}
      },
      "source": [
        "%tensorflow_version 1.x\n",
        "import tensorflow as tf\n",
        "import numpy as np\n",
        "import matplotlib.pyplot as plt"
      ],
      "execution_count": null,
      "outputs": []
    },
    {
      "cell_type": "markdown",
      "metadata": {
        "id": "zsreOYKUB7pU",
        "colab_type": "text"
      },
      "source": [
        "## Basic syntax"
      ]
    },
    {
      "cell_type": "code",
      "metadata": {
        "id": "7FbC8zEuB7pV",
        "colab_type": "code",
        "colab": {}
      },
      "source": [
        "a = tf.constant(5) # like their name implies, constants have a constant value\n",
        "b = tf.constant(6)"
      ],
      "execution_count": null,
      "outputs": []
    },
    {
      "cell_type": "code",
      "metadata": {
        "id": "UO50pypNB7pX",
        "colab_type": "code",
        "colab": {
          "base_uri": "https://localhost:8080/",
          "height": 52
        },
        "outputId": "786aca1d-7f65-4059-9a0d-37af4cd1a629"
      },
      "source": [
        "a, b"
      ],
      "execution_count": null,
      "outputs": [
        {
          "output_type": "execute_result",
          "data": {
            "text/plain": [
              "(<tf.Tensor 'Const_1:0' shape=() dtype=int32>,\n",
              " <tf.Tensor 'Const_2:0' shape=() dtype=int32>)"
            ]
          },
          "metadata": {
            "tags": []
          },
          "execution_count": 68
        }
      ]
    },
    {
      "cell_type": "code",
      "metadata": {
        "id": "PhpE28VDB7pa",
        "colab_type": "code",
        "colab": {}
      },
      "source": [
        "c = tf.add(a, b) # operations are added to the tensorflow computational graph"
      ],
      "execution_count": null,
      "outputs": []
    },
    {
      "cell_type": "code",
      "metadata": {
        "id": "2_vnkvalB7pd",
        "colab_type": "code",
        "colab": {}
      },
      "source": [
        "c =  a + b"
      ],
      "execution_count": null,
      "outputs": []
    },
    {
      "cell_type": "code",
      "metadata": {
        "id": "4z19xGz8B7pf",
        "colab_type": "code",
        "colab": {
          "base_uri": "https://localhost:8080/",
          "height": 35
        },
        "outputId": "84c0cbce-778d-44db-ce6a-3fea965c25e0"
      },
      "source": [
        "c"
      ],
      "execution_count": null,
      "outputs": [
        {
          "output_type": "execute_result",
          "data": {
            "text/plain": [
              "<tf.Tensor 'add_1:0' shape=() dtype=int32>"
            ]
          },
          "metadata": {
            "tags": []
          },
          "execution_count": 14
        }
      ]
    },
    {
      "cell_type": "code",
      "metadata": {
        "id": "UzXnySLCB7pi",
        "colab_type": "code",
        "colab": {}
      },
      "source": [
        "# A session allows to execute graphs or part of graphs\n",
        "# It allocates resources and holds the values of intermediate results and variables\n",
        "sess = tf.Session() "
      ],
      "execution_count": null,
      "outputs": []
    },
    {
      "cell_type": "code",
      "metadata": {
        "id": "H7p9DLU1B7pj",
        "colab_type": "code",
        "colab": {
          "base_uri": "https://localhost:8080/",
          "height": 35
        },
        "outputId": "cb4e989d-2a32-4283-b8dc-07e98529124e"
      },
      "source": [
        "sess.run(c) # only after the computations are run does TF 1.x populate values with numbers"
      ],
      "execution_count": null,
      "outputs": [
        {
          "output_type": "execute_result",
          "data": {
            "text/plain": [
              "11"
            ]
          },
          "metadata": {
            "tags": []
          },
          "execution_count": 72
        }
      ]
    },
    {
      "cell_type": "code",
      "metadata": {
        "id": "wgXpeoGRB7pn",
        "colab_type": "code",
        "colab": {}
      },
      "source": [
        "sess.close() # close the session"
      ],
      "execution_count": null,
      "outputs": []
    },
    {
      "cell_type": "code",
      "metadata": {
        "id": "y7FehwCpfZ4x",
        "colab_type": "code",
        "colab": {}
      },
      "source": [
        "# TensorFlow 2.x now has \"eager execution\"\n",
        "# a = tf.constant(5)\n",
        "# b = tf.constant(6)\n",
        "# outputs:\n",
        "# tf.Tensor(5, shape=(), dtype=int32)\n",
        "# tf.Tensor(6, shape=(), dtype=int32)"
      ],
      "execution_count": null,
      "outputs": []
    },
    {
      "cell_type": "markdown",
      "metadata": {
        "id": "dKO44WFhB7pp",
        "colab_type": "text"
      },
      "source": [
        "## Placeholders and variables"
      ]
    },
    {
      "cell_type": "code",
      "metadata": {
        "id": "Vz-ygEquB7pq",
        "colab_type": "code",
        "colab": {}
      },
      "source": [
        "tf.reset_default_graph()\n",
        "# clears the graph we've already built and resets it to the default."
      ],
      "execution_count": null,
      "outputs": []
    },
    {
      "cell_type": "code",
      "metadata": {
        "id": "DluHYZTyB7pt",
        "colab_type": "code",
        "colab": {}
      },
      "source": [
        "x = tf.placeholder(tf.float32, shape = [3,1])\n",
        "# x is a placeholder used to store data. its values do not need to be declared yet."
      ],
      "execution_count": null,
      "outputs": []
    },
    {
      "cell_type": "code",
      "metadata": {
        "id": "rM2YUgjzB7pw",
        "colab_type": "code",
        "colab": {}
      },
      "source": [
        "w = tf.get_variable(\"w\", initializer=tf.truncated_normal([3,3]))\n",
        "# w is a variable. its values can change during training."
      ],
      "execution_count": null,
      "outputs": []
    },
    {
      "cell_type": "code",
      "metadata": {
        "id": "DIdQ7ubBB7py",
        "colab_type": "code",
        "colab": {}
      },
      "source": [
        "b = tf.get_variable(\"b\", initializer=tf.zeros([3,1],tf.float32))"
      ],
      "execution_count": null,
      "outputs": []
    },
    {
      "cell_type": "code",
      "metadata": {
        "id": "g2MhAbQssRBL",
        "colab_type": "code",
        "colab": {
          "base_uri": "https://localhost:8080/",
          "height": 35
        },
        "outputId": "8f5d3375-d927-4f58-9154-b368bd3020db"
      },
      "source": [
        "x"
      ],
      "execution_count": null,
      "outputs": [
        {
          "output_type": "execute_result",
          "data": {
            "text/plain": [
              "<tf.Tensor 'Placeholder:0' shape=(3, 1) dtype=float32>"
            ]
          },
          "metadata": {
            "tags": []
          },
          "execution_count": 22
        }
      ]
    },
    {
      "cell_type": "code",
      "metadata": {
        "id": "vNK2N9JGB7p1",
        "colab_type": "code",
        "colab": {}
      },
      "source": [
        "y = tf.nn.relu(tf.matmul(w, x) + b)"
      ],
      "execution_count": null,
      "outputs": []
    },
    {
      "cell_type": "code",
      "metadata": {
        "id": "uljlAdWjB7p3",
        "colab_type": "code",
        "colab": {
          "base_uri": "https://localhost:8080/",
          "height": 35
        },
        "outputId": "e4b7da4c-c982-44b8-8bae-519820e02343"
      },
      "source": [
        "y"
      ],
      "execution_count": null,
      "outputs": [
        {
          "output_type": "execute_result",
          "data": {
            "text/plain": [
              "<tf.Tensor 'Relu:0' shape=(3, 1) dtype=float32>"
            ]
          },
          "metadata": {
            "tags": []
          },
          "execution_count": 24
        }
      ]
    },
    {
      "cell_type": "code",
      "metadata": {
        "id": "Kl1IkV7fgHNe",
        "colab_type": "code",
        "colab": {}
      },
      "source": [
        "# TensorFlow 2.x:\n",
        "# W = tf.Variable(tf.ones(shape=(3,3)), name=\"W\")\n",
        "# b = tf.Variable(tf.zeros(shape=(3,1)), name=\"b\")\n",
        "\n",
        "# x = [[1],[0],[0]]\n",
        "# y = tf.nn.relu(tf.linalg.matmul(W,x) + b)\n",
        "\n",
        "# y\n",
        "# outputs: <tf.Tensor: shape=(3, 1), dtype=float32, numpy=\n",
        "#          array([[1.],\n",
        "#                 [1.],\n",
        "#                 [1.]], dtype=float32)>"
      ],
      "execution_count": null,
      "outputs": []
    },
    {
      "cell_type": "markdown",
      "metadata": {
        "id": "hSPhLZkpB7p6",
        "colab_type": "text"
      },
      "source": [
        "## Evaluating graphs with placeholders and variables"
      ]
    },
    {
      "cell_type": "markdown",
      "metadata": {
        "id": "tXA5ve_gjYvL",
        "colab_type": "text"
      },
      "source": [
        "\"Graph\" refers to computational graph, and defines the operations that variables, placeholders, and constants will be subject to. It will not compute and it does not hold any concrete values. A graph is like a TODO list."
      ]
    },
    {
      "cell_type": "code",
      "metadata": {
        "id": "mXvUxVnzB7p6",
        "colab_type": "code",
        "colab": {}
      },
      "source": [
        "with tf.Session() as sess: # another way to start and stop a session\n",
        "    sess.run(tf.global_variables_initializer()) # declare all the variables we have initialized\n",
        "    y_val = sess.run(y, feed_dict={x: [[1],[-2],[3]]})  # feed_dict is used to pass the values for the placeholders"
      ],
      "execution_count": null,
      "outputs": []
    },
    {
      "cell_type": "code",
      "metadata": {
        "id": "Zjw-u_UlB7p8",
        "colab_type": "code",
        "colab": {
          "base_uri": "https://localhost:8080/",
          "height": 69
        },
        "outputId": "9ebbb5b5-261a-4f79-95d9-85042f37c69a"
      },
      "source": [
        "y_val"
      ],
      "execution_count": null,
      "outputs": [
        {
          "output_type": "execute_result",
          "data": {
            "text/plain": [
              "array([[3.4116344],\n",
              "       [0.       ],\n",
              "       [1.9998865]], dtype=float32)"
            ]
          },
          "metadata": {
            "tags": []
          },
          "execution_count": 26
        }
      ]
    },
    {
      "cell_type": "code",
      "metadata": {
        "id": "9nuc6337B7p_",
        "colab_type": "code",
        "colab": {}
      },
      "source": [
        "fdict = {x:[[1],[-2],[3]],\n",
        "         b:[[-10],[-10],[-10]]}"
      ],
      "execution_count": null,
      "outputs": []
    },
    {
      "cell_type": "code",
      "metadata": {
        "id": "6BqaBy3-B7qC",
        "colab_type": "code",
        "colab": {}
      },
      "source": [
        "with tf.Session() as sess:\n",
        "    sess.run(tf.global_variables_initializer())\n",
        "    y_val, b_val = sess.run([y,b], feed_dict=fdict)"
      ],
      "execution_count": null,
      "outputs": []
    },
    {
      "cell_type": "code",
      "metadata": {
        "id": "a_t1nQe-B7qF",
        "colab_type": "code",
        "colab": {
          "base_uri": "https://localhost:8080/",
          "height": 69
        },
        "outputId": "acb3f7af-ae4a-40cd-c8ac-8a30ae927cd9"
      },
      "source": [
        "y_val"
      ],
      "execution_count": null,
      "outputs": [
        {
          "output_type": "execute_result",
          "data": {
            "text/plain": [
              "array([[0.],\n",
              "       [0.],\n",
              "       [0.]], dtype=float32)"
            ]
          },
          "metadata": {
            "tags": []
          },
          "execution_count": 82
        }
      ]
    },
    {
      "cell_type": "code",
      "metadata": {
        "id": "8iosIWumB7qH",
        "colab_type": "code",
        "colab": {
          "base_uri": "https://localhost:8080/",
          "height": 69
        },
        "outputId": "166f9b3e-e716-4b5d-a548-27fea7f1518b"
      },
      "source": [
        "b_val"
      ],
      "execution_count": null,
      "outputs": [
        {
          "output_type": "execute_result",
          "data": {
            "text/plain": [
              "array([[-10.],\n",
              "       [-10.],\n",
              "       [-10.]], dtype=float32)"
            ]
          },
          "metadata": {
            "tags": []
          },
          "execution_count": 83
        }
      ]
    },
    {
      "cell_type": "code",
      "metadata": {
        "id": "GR6WDNsbB7qL",
        "colab_type": "code",
        "colab": {}
      },
      "source": [
        "with tf.Session() as sess:\n",
        "    sess.run(tf.assign(w, 100*tf.ones([3,3])))\n",
        "    y_val, b_val = sess.run([y,b], feed_dict=fdict)"
      ],
      "execution_count": null,
      "outputs": []
    },
    {
      "cell_type": "code",
      "metadata": {
        "id": "yLy8XSlRB7qN",
        "colab_type": "code",
        "colab": {
          "base_uri": "https://localhost:8080/",
          "height": 69
        },
        "outputId": "2e08cecc-a008-487a-a65e-f89e2cf68ba4"
      },
      "source": [
        "y_val"
      ],
      "execution_count": null,
      "outputs": [
        {
          "output_type": "execute_result",
          "data": {
            "text/plain": [
              "array([[190.],\n",
              "       [190.],\n",
              "       [190.]], dtype=float32)"
            ]
          },
          "metadata": {
            "tags": []
          },
          "execution_count": 85
        }
      ]
    },
    {
      "cell_type": "code",
      "metadata": {
        "id": "Y8Fbrq53B7qO",
        "colab_type": "code",
        "colab": {
          "base_uri": "https://localhost:8080/",
          "height": 69
        },
        "outputId": "f7d3437f-3771-4fcf-a1e0-40a5506a7800"
      },
      "source": [
        "b_val"
      ],
      "execution_count": null,
      "outputs": [
        {
          "output_type": "execute_result",
          "data": {
            "text/plain": [
              "array([[-10.],\n",
              "       [-10.],\n",
              "       [-10.]], dtype=float32)"
            ]
          },
          "metadata": {
            "tags": []
          },
          "execution_count": 86
        }
      ]
    },
    {
      "cell_type": "markdown",
      "metadata": {
        "id": "fZ35bMbBB7qR",
        "colab_type": "text"
      },
      "source": [
        "## Build Two Layers"
      ]
    },
    {
      "cell_type": "code",
      "metadata": {
        "id": "3HYWUCEQB7qS",
        "colab_type": "code",
        "colab": {}
      },
      "source": [
        "tf.reset_default_graph()"
      ],
      "execution_count": null,
      "outputs": []
    },
    {
      "cell_type": "code",
      "metadata": {
        "id": "C1TY72ZlB7qT",
        "colab_type": "code",
        "colab": {}
      },
      "source": [
        "x = tf.placeholder(tf.float32, shape = [2,None])\n",
        "w1 = tf.get_variable(\"w1\", initializer=0.1*tf.truncated_normal([2,2]))\n",
        "b1 = tf.get_variable(\"b1\", initializer=tf.zeros([2,1],tf.float32))\n",
        "w2 = tf.get_variable(\"w2\", initializer=0.1*tf.truncated_normal([2,2]))\n",
        "b2 = tf.get_variable(\"b2\", initializer=tf.zeros([2,1],tf.float32))"
      ],
      "execution_count": null,
      "outputs": []
    },
    {
      "cell_type": "code",
      "metadata": {
        "id": "y_e--cz6B7qV",
        "colab_type": "code",
        "colab": {}
      },
      "source": [
        "a1 = tf.nn.relu(tf.matmul(w1,x) + b1)\n",
        "theta = tf.matmul(w2,a1) + b2\n",
        "ypred = tf.nn.softmax(theta,axis=0)"
      ],
      "execution_count": null,
      "outputs": []
    },
    {
      "cell_type": "code",
      "metadata": {
        "id": "CGAb9gZfB7qX",
        "colab_type": "code",
        "colab": {}
      },
      "source": [
        "with tf.Session() as sess:\n",
        "    sess.run(tf.global_variables_initializer())\n",
        "    y_val = sess.run(ypred, feed_dict={x:[[1,2,4],[-2,2,4]]})"
      ],
      "execution_count": null,
      "outputs": []
    },
    {
      "cell_type": "code",
      "metadata": {
        "id": "_m5XV_nHB7qZ",
        "colab_type": "code",
        "colab": {
          "base_uri": "https://localhost:8080/",
          "height": 52
        },
        "outputId": "c27d13d5-9ab9-4faa-a381-efcc2c991345"
      },
      "source": [
        "y_val"
      ],
      "execution_count": null,
      "outputs": [
        {
          "output_type": "execute_result",
          "data": {
            "text/plain": [
              "array([[0.5053593 , 0.5       , 0.5       ],\n",
              "       [0.49464077, 0.5       , 0.5       ]], dtype=float32)"
            ]
          },
          "metadata": {
            "tags": []
          },
          "execution_count": 39
        }
      ]
    },
    {
      "cell_type": "markdown",
      "metadata": {
        "id": "_qpmyQbOB7qc",
        "colab_type": "text"
      },
      "source": [
        "## Create some data"
      ]
    },
    {
      "cell_type": "code",
      "metadata": {
        "id": "rbHJqzl-B7qd",
        "colab_type": "code",
        "colab": {
          "base_uri": "https://localhost:8080/",
          "height": 283
        },
        "outputId": "19bbce03-9da4-4dae-a630-5c77eb31f0af"
      },
      "source": [
        "data = np.random.rand(500,2)\n",
        "xd, yd = data.T\n",
        "plt.plot(xd,yd,'ro')"
      ],
      "execution_count": null,
      "outputs": [
        {
          "output_type": "execute_result",
          "data": {
            "text/plain": [
              "[<matplotlib.lines.Line2D at 0x7f0834f4d7f0>]"
            ]
          },
          "metadata": {
            "tags": []
          },
          "execution_count": 91
        },
        {
          "output_type": "display_data",
          "data": {
            "image/png": "[encoded data removed]",
            "text/plain": [
              "<Figure size 432x288 with 1 Axes>"
            ]
          },
          "metadata": {
            "tags": [],
            "needs_background": "light"
          }
        }
      ]
    },
    {
      "cell_type": "code",
      "metadata": {
        "id": "oGDRIP9EB7qf",
        "colab_type": "code",
        "colab": {}
      },
      "source": [
        "yclass = (xd-1)**10 + (yd-1)**10 <0.7**10"
      ],
      "execution_count": null,
      "outputs": []
    },
    {
      "cell_type": "code",
      "metadata": {
        "id": "kPXevrRpB7qh",
        "colab_type": "code",
        "colab": {}
      },
      "source": [
        "yclass = (xd-0.5)**2 + (yd-0.5)**2 <0.1"
      ],
      "execution_count": null,
      "outputs": []
    },
    {
      "cell_type": "code",
      "metadata": {
        "id": "aiB2JT0qB7qj",
        "colab_type": "code",
        "colab": {}
      },
      "source": [
        "yclass = (xd-0.5) + (yd-0.5) <0.1"
      ],
      "execution_count": null,
      "outputs": []
    },
    {
      "cell_type": "code",
      "metadata": {
        "id": "WFXaK4b3B7ql",
        "colab_type": "code",
        "colab": {
          "base_uri": "https://localhost:8080/",
          "height": 283
        },
        "outputId": "8e75e3a1-e7d1-41ef-caea-d322c7b1b3ad"
      },
      "source": [
        "y_ones = np.where(yclass==1)\n",
        "plt.plot(xd,yd,'ro')\n",
        "plt.plot(xd[y_ones],yd[y_ones],'bo')"
      ],
      "execution_count": null,
      "outputs": [
        {
          "output_type": "execute_result",
          "data": {
            "text/plain": [
              "[<matplotlib.lines.Line2D at 0x7f0834e56390>]"
            ]
          },
          "metadata": {
            "tags": []
          },
          "execution_count": 97
        },
        {
          "output_type": "display_data",
          "data": {
            "image/png": "[encoded data removed]",
            "text/plain": [
              "<Figure size 432x288 with 1 Axes>"
            ]
          },
          "metadata": {
            "tags": [],
            "needs_background": "light"
          }
        }
      ]
    },
    {
      "cell_type": "code",
      "metadata": {
        "id": "GwG8j0KsB7qn",
        "colab_type": "code",
        "colab": {}
      },
      "source": [
        "with tf.Session() as sess:\n",
        "    sess.run(tf.global_variables_initializer())\n",
        "    y_val = sess.run(ypred, feed_dict={x: data.T})"
      ],
      "execution_count": null,
      "outputs": []
    },
    {
      "cell_type": "code",
      "metadata": {
        "id": "RvRNowdaB7qq",
        "colab_type": "code",
        "colab": {
          "base_uri": "https://localhost:8080/",
          "height": 283
        },
        "outputId": "c34de77d-9285-42f6-aead-30ea8989680f"
      },
      "source": [
        "y_ones = np.where(y_val[0]>0.5)\n",
        "plt.plot(xd, yd, 'ro')\n",
        "plt.plot(xd[y_ones], yd[y_ones], 'bo')"
      ],
      "execution_count": null,
      "outputs": [
        {
          "output_type": "execute_result",
          "data": {
            "text/plain": [
              "[<matplotlib.lines.Line2D at 0x7f0834e36c88>]"
            ]
          },
          "metadata": {
            "tags": []
          },
          "execution_count": 99
        },
        {
          "output_type": "display_data",
          "data": {
            "image/png": "[encoded data removed]",
            "text/plain": [
              "<Figure size 432x288 with 1 Axes>"
            ]
          },
          "metadata": {
            "tags": [],
            "needs_background": "light"
          }
        }
      ]
    },
    {
      "cell_type": "markdown",
      "metadata": {
        "id": "7yhbc4ITB7qu",
        "colab_type": "text"
      },
      "source": [
        "## Loss function"
      ]
    },
    {
      "cell_type": "code",
      "metadata": {
        "id": "3PCiYRukB7qu",
        "colab_type": "code",
        "colab": {}
      },
      "source": [
        "y_data = tf.placeholder(tf.int32, shape = [None])\n",
        "y = tf.one_hot(y_data, 2)"
      ],
      "execution_count": null,
      "outputs": []
    },
    {
      "cell_type": "code",
      "metadata": {
        "id": "3Y51MUfGB7qx",
        "colab_type": "code",
        "colab": {}
      },
      "source": [
        "cost = tf.reduce_mean(tf.nn.softmax_cross_entropy_with_logits_v2(\n",
        "    labels = y,\n",
        "    logits = tf.transpose(theta)\n",
        "))"
      ],
      "execution_count": null,
      "outputs": []
    },
    {
      "cell_type": "code",
      "metadata": {
        "id": "xu8LTqXMB7qy",
        "colab_type": "code",
        "colab": {}
      },
      "source": [
        "with tf.Session() as sess:\n",
        "    sess.run(tf.global_variables_initializer())\n",
        "    cost_val = sess.run(cost, feed_dict={x: data.T, y_data: yclass})"
      ],
      "execution_count": null,
      "outputs": []
    },
    {
      "cell_type": "code",
      "metadata": {
        "id": "BL9qnpSaB7q3",
        "colab_type": "code",
        "colab": {
          "base_uri": "https://localhost:8080/",
          "height": 35
        },
        "outputId": "c00bccf1-9de8-45e8-8999-168d251babce"
      },
      "source": [
        "cost_val"
      ],
      "execution_count": null,
      "outputs": [
        {
          "output_type": "execute_result",
          "data": {
            "text/plain": [
              "0.69508934"
            ]
          },
          "metadata": {
            "tags": []
          },
          "execution_count": 104
        }
      ]
    },
    {
      "cell_type": "markdown",
      "metadata": {
        "id": "G_ZY5TUqB7q5",
        "colab_type": "text"
      },
      "source": [
        "## Gradients"
      ]
    },
    {
      "cell_type": "code",
      "metadata": {
        "id": "xVWcrAkrB7q6",
        "colab_type": "code",
        "colab": {}
      },
      "source": [
        "dw1, db1, dw2, db2 = tf.gradients(xs=[w1,b1,w2,b2], ys=cost)"
      ],
      "execution_count": null,
      "outputs": []
    },
    {
      "cell_type": "code",
      "metadata": {
        "id": "1PvD4FW1B7q9",
        "colab_type": "code",
        "colab": {
          "base_uri": "https://localhost:8080/",
          "height": 35
        },
        "outputId": "b6c31be2-3d58-4c78-9b3d-b36e25767604"
      },
      "source": [
        "dw1"
      ],
      "execution_count": null,
      "outputs": [
        {
          "output_type": "execute_result",
          "data": {
            "text/plain": [
              "<tf.Tensor 'gradients/MatMul_grad/MatMul:0' shape=(2, 2) dtype=float32>"
            ]
          },
          "metadata": {
            "tags": []
          },
          "execution_count": 106
        }
      ]
    },
    {
      "cell_type": "code",
      "metadata": {
        "id": "x9WLXzG8B7rA",
        "colab_type": "code",
        "colab": {}
      },
      "source": [
        "with tf.Session() as sess:\n",
        "    sess.run(tf.global_variables_initializer())\n",
        "    cost_val = sess.run(cost, feed_dict={x:data.T, y_data:yclass})\n",
        "    dw1_val, db1_val, dw2_val, db2_val = sess.run([dw1,db1,dw2,db2], feed_dict={x:data.T,y_data:yclass})"
      ],
      "execution_count": null,
      "outputs": []
    },
    {
      "cell_type": "code",
      "metadata": {
        "id": "p7HWFaLWB7rE",
        "colab_type": "code",
        "colab": {
          "base_uri": "https://localhost:8080/",
          "height": 104
        },
        "outputId": "08421085-0e49-4e94-d4b2-73d1995d42d3"
      },
      "source": [
        "dw1_val, db1_val, dw2_val, db2_val"
      ],
      "execution_count": null,
      "outputs": [
        {
          "output_type": "execute_result",
          "data": {
            "text/plain": [
              "(array([[0., 0.],\n",
              "        [0., 0.]], dtype=float32), array([[0.],\n",
              "        [0.]], dtype=float32), array([[0., 0.],\n",
              "        [0., 0.]], dtype=float32), array([[ 0.05400001],\n",
              "        [-0.05400001]], dtype=float32))"
            ]
          },
          "metadata": {
            "tags": []
          },
          "execution_count": 108
        }
      ]
    },
    {
      "cell_type": "markdown",
      "metadata": {
        "id": "YmboSeloB7rG",
        "colab_type": "text"
      },
      "source": [
        "## Gradient Descent operation"
      ]
    },
    {
      "cell_type": "code",
      "metadata": {
        "id": "V0pmbk_gB7rG",
        "colab_type": "code",
        "colab": {}
      },
      "source": [
        "alpha = 0.1"
      ],
      "execution_count": null,
      "outputs": []
    },
    {
      "cell_type": "code",
      "metadata": {
        "id": "QE3Cq-pjB7rI",
        "colab_type": "code",
        "colab": {}
      },
      "source": [
        "grad_descent = [ tf.assign(w1, w1 - alpha*dw1 ),\n",
        "                 tf.assign(b1, b1 - alpha*db1 ),\n",
        "                 tf.assign(w2, w2 - alpha*dw2 ),\n",
        "                 tf.assign(b2, b2 - alpha*db2 ),\n",
        "               ]"
      ],
      "execution_count": null,
      "outputs": []
    },
    {
      "cell_type": "code",
      "metadata": {
        "id": "6r-4vH_UyPgr",
        "colab_type": "code",
        "colab": {}
      },
      "source": [
        "sess.close()"
      ],
      "execution_count": null,
      "outputs": []
    },
    {
      "cell_type": "code",
      "metadata": {
        "id": "JsfCIWdrB7rL",
        "colab_type": "code",
        "colab": {}
      },
      "source": [
        "sess = tf.Session()\n",
        "sess.run(tf.global_variables_initializer())\n",
        "cost_vals=[]"
      ],
      "execution_count": null,
      "outputs": []
    },
    {
      "cell_type": "code",
      "metadata": {
        "id": "kOFoXmVrB7rM",
        "colab_type": "code",
        "colab": {
          "base_uri": "https://localhost:8080/",
          "height": 35
        },
        "outputId": "06bae4d5-e53f-4c28-bc46-bb101db5b8b5"
      },
      "source": [
        "cost_val = sess.run(cost, feed_dict={x:data.T,y_data:yd})\n",
        "cost_val"
      ],
      "execution_count": null,
      "outputs": [
        {
          "output_type": "execute_result",
          "data": {
            "text/plain": [
              "0.6933319"
            ]
          },
          "metadata": {
            "tags": []
          },
          "execution_count": 113
        }
      ]
    },
    {
      "cell_type": "code",
      "metadata": {
        "id": "Eus_9blkB7rP",
        "colab_type": "code",
        "colab": {
          "base_uri": "https://localhost:8080/",
          "height": 283
        },
        "outputId": "41d80599-8dbd-457f-d7c1-f3bf253ff1fd"
      },
      "source": [
        "for i in range(1000):\n",
        "    cost_vals += [sess.run(cost, feed_dict={x:data.T, y_data:yclass})]\n",
        "    sess.run(grad_descent, feed_dict={x:data.T, y_data:yclass})\n",
        "plt.plot(cost_vals)"
      ],
      "execution_count": null,
      "outputs": [
        {
          "output_type": "execute_result",
          "data": {
            "text/plain": [
              "[<matplotlib.lines.Line2D at 0x7f0834d02e80>]"
            ]
          },
          "metadata": {
            "tags": []
          },
          "execution_count": 114
        },
        {
          "output_type": "display_data",
          "data": {
            "image/png": "[encoded data removed]",
            "text/plain": [
              "<Figure size 432x288 with 1 Axes>"
            ]
          },
          "metadata": {
            "tags": [],
            "needs_background": "light"
          }
        }
      ]
    },
    {
      "cell_type": "code",
      "metadata": {
        "id": "ATn9dvwHB7rR",
        "colab_type": "code",
        "colab": {
          "base_uri": "https://localhost:8080/",
          "height": 35
        },
        "outputId": "f875776d-a139-4afd-f962-aa201586b0eb"
      },
      "source": [
        "cost_val = sess.run(cost,feed_dict={x:data.T, y_data:yclass})\n",
        "cost_val"
      ],
      "execution_count": null,
      "outputs": [
        {
          "output_type": "execute_result",
          "data": {
            "text/plain": [
              "0.10566869"
            ]
          },
          "metadata": {
            "tags": []
          },
          "execution_count": 115
        }
      ]
    },
    {
      "cell_type": "code",
      "metadata": {
        "id": "hqvMgS6ZB7rT",
        "colab_type": "code",
        "colab": {}
      },
      "source": [
        "ypred_val = sess.run(ypred,feed_dict={x:data.T,y_data:yclass})"
      ],
      "execution_count": null,
      "outputs": []
    },
    {
      "cell_type": "code",
      "metadata": {
        "id": "Ilczz_dRB7rV",
        "colab_type": "code",
        "colab": {
          "base_uri": "https://localhost:8080/",
          "height": 283
        },
        "outputId": "4ff1b3a7-c23e-443e-d149-7f6368e38ef8"
      },
      "source": [
        "y_ones = np.where(ypred_val[1] > 0.4)\n",
        "plt.plot(xd, yd, 'ro')\n",
        "plt.plot(xd[y_ones], yd[y_ones], 'bo')"
      ],
      "execution_count": null,
      "outputs": [
        {
          "output_type": "execute_result",
          "data": {
            "text/plain": [
              "[<matplotlib.lines.Line2D at 0x7f0834d4e2b0>]"
            ]
          },
          "metadata": {
            "tags": []
          },
          "execution_count": 117
        },
        {
          "output_type": "display_data",
          "data": {
            "image/png": "[encoded data removed]",
            "text/plain": [
              "<Figure size 432x288 with 1 Axes>"
            ]
          },
          "metadata": {
            "tags": [],
            "needs_background": "light"
          }
        }
      ]
    },
    {
      "cell_type": "code",
      "metadata": {
        "id": "-b7zGf4XB7rX",
        "colab_type": "code",
        "colab": {
          "base_uri": "https://localhost:8080/",
          "height": 283
        },
        "outputId": "6ed471ec-cd46-4bdf-d646-3d28f6861ab4"
      },
      "source": [
        "y_ones = np.where(yclass==1)\n",
        "plt.plot(xd, yd, 'ro')\n",
        "plt.plot(xd[y_ones], yd[y_ones], 'bo')"
      ],
      "execution_count": null,
      "outputs": [
        {
          "output_type": "execute_result",
          "data": {
            "text/plain": [
              "[<matplotlib.lines.Line2D at 0x7f0834cfbd68>]"
            ]
          },
          "metadata": {
            "tags": []
          },
          "execution_count": 118
        },
        {
          "output_type": "display_data",
          "data": {
            "image/png": "[encoded data removed]",
            "text/plain": [
              "<Figure size 432x288 with 1 Axes>"
            ]
          },
          "metadata": {
            "tags": [],
            "needs_background": "light"
          }
        }
      ]
    },
    {
      "cell_type": "code",
      "metadata": {
        "id": "iUeDDMMeB7rZ",
        "colab_type": "code",
        "colab": {}
      },
      "source": [
        ""
      ],
      "execution_count": null,
      "outputs": []
    },
    {
      "cell_type": "code",
      "metadata": {
        "id": "cezRhRoWB7ra",
        "colab_type": "code",
        "colab": {}
      },
      "source": [
        ""
      ],
      "execution_count": null,
      "outputs": []
    }
  ]
}