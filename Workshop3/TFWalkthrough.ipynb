{
  "nbformat": 4,
  "nbformat_minor": 0,
  "metadata": {
    "colab": {
      "name": "TFWalkthrough.ipynb",
      "provenance": [],
      "include_colab_link": true
    },
    "kernelspec": {
      "name": "python3",
      "display_name": "Python 3"
    }
  },
  "cells": [
    {
      "cell_type": "markdown",
      "metadata": {
        "id": "view-in-github",
        "colab_type": "text"
      },
      "source": [
        "<a href=\"https://colab.research.google.com/github/nazbeh/I_C_M_E_2020/blob/master/Workshop3/TFWalkthrough.ipynb\" target=\"_parent\"><img src=\"https://colab.research.google.com/assets/colab-badge.svg\" alt=\"Open In Colab\"/></a>"
      ]
    },
    {
      "cell_type": "markdown",
      "metadata": {
        "id": "02i6UC99B7pQ",
        "colab_type": "text"
      },
      "source": [
        "# Tensorflow Example\n",
        "\n",
        "In this notebook we will learn some basic tensorflow syntax."
      ]
    },
    {
      "cell_type": "code",
      "metadata": {
        "id": "7wFLt_1kB7pR",
        "colab_type": "code",
        "colab": {}
      },
      "source": [
        "import tensorflow as tf\n",
        "import numpy as np\n",
        "import matplotlib.pyplot as plt"
      ],
      "execution_count": null,
      "outputs": []
    },
    {
      "cell_type": "markdown",
      "metadata": {
        "id": "zsreOYKUB7pU",
        "colab_type": "text"
      },
      "source": [
        "## Basic syntax"
      ]
    },
    {
      "cell_type": "code",
      "metadata": {
        "id": "7FbC8zEuB7pV",
        "colab_type": "code",
        "colab": {}
      },
      "source": [
        "a = tf.constant(5)\n",
        "b = tf.constant(6)"
      ],
      "execution_count": null,
      "outputs": []
    },
    {
      "cell_type": "code",
      "metadata": {
        "id": "UO50pypNB7pX",
        "colab_type": "code",
        "colab": {
          "base_uri": "https://localhost:8080/",
          "height": 52
        },
        "outputId": "570b95cc-0174-4a10-f7f3-e56f94fd1b68"
      },
      "source": [
        "a,b"
      ],
      "execution_count": null,
      "outputs": [
        {
          "output_type": "execute_result",
          "data": {
            "text/plain": [
              "(<tf.Tensor 'Const:0' shape=() dtype=int32>,\n",
              " <tf.Tensor 'Const_1:0' shape=() dtype=int32>)"
            ]
          },
          "metadata": {
            "tags": []
          },
          "execution_count": 4
        }
      ]
    },
    {
      "cell_type": "code",
      "metadata": {
        "id": "PhpE28VDB7pa",
        "colab_type": "code",
        "colab": {}
      },
      "source": [
        "c = tf.add(a,b)"
      ],
      "execution_count": null,
      "outputs": []
    },
    {
      "cell_type": "code",
      "metadata": {
        "id": "2_vnkvalB7pd",
        "colab_type": "code",
        "colab": {}
      },
      "source": [
        "c =  a + b"
      ],
      "execution_count": null,
      "outputs": []
    },
    {
      "cell_type": "code",
      "metadata": {
        "id": "4z19xGz8B7pf",
        "colab_type": "code",
        "colab": {
          "base_uri": "https://localhost:8080/",
          "height": 34
        },
        "outputId": "ace301db-91bc-419b-b2d1-653b42ab1866"
      },
      "source": [
        "c"
      ],
      "execution_count": null,
      "outputs": [
        {
          "output_type": "execute_result",
          "data": {
            "text/plain": [
              "<tf.Tensor 'add_1:0' shape=() dtype=int32>"
            ]
          },
          "metadata": {
            "tags": []
          },
          "execution_count": 7
        }
      ]
    },
    {
      "cell_type": "code",
      "metadata": {
        "id": "UzXnySLCB7pi",
        "colab_type": "code",
        "colab": {}
      },
      "source": [
        "sess = tf.Session()"
      ],
      "execution_count": null,
      "outputs": []
    },
    {
      "cell_type": "code",
      "metadata": {
        "id": "H7p9DLU1B7pj",
        "colab_type": "code",
        "colab": {
          "base_uri": "https://localhost:8080/",
          "height": 34
        },
        "outputId": "086d5085-a237-4a60-ee2c-620b629022ba"
      },
      "source": [
        "sess.run(c)"
      ],
      "execution_count": null,
      "outputs": [
        {
          "output_type": "execute_result",
          "data": {
            "text/plain": [
              "11"
            ]
          },
          "metadata": {
            "tags": []
          },
          "execution_count": 9
        }
      ]
    },
    {
      "cell_type": "code",
      "metadata": {
        "id": "wgXpeoGRB7pn",
        "colab_type": "code",
        "colab": {}
      },
      "source": [
        "sess.close()"
      ],
      "execution_count": null,
      "outputs": []
    },
    {
      "cell_type": "markdown",
      "metadata": {
        "id": "dKO44WFhB7pp",
        "colab_type": "text"
      },
      "source": [
        "## Placeholders and variables"
      ]
    },
    {
      "cell_type": "code",
      "metadata": {
        "id": "Vz-ygEquB7pq",
        "colab_type": "code",
        "colab": {}
      },
      "source": [
        "tf.reset_default_graph()"
      ],
      "execution_count": null,
      "outputs": []
    },
    {
      "cell_type": "code",
      "metadata": {
        "id": "DluHYZTyB7pt",
        "colab_type": "code",
        "colab": {}
      },
      "source": [
        "x = tf.placeholder(tf.float32, shape = [3,1])"
      ],
      "execution_count": null,
      "outputs": []
    },
    {
      "cell_type": "code",
      "metadata": {
        "id": "rM2YUgjzB7pw",
        "colab_type": "code",
        "colab": {}
      },
      "source": [
        "w = tf.get_variable(\"w\", initializer=tf.truncated_normal([3,3]))"
      ],
      "execution_count": null,
      "outputs": []
    },
    {
      "cell_type": "code",
      "metadata": {
        "id": "DIdQ7ubBB7py",
        "colab_type": "code",
        "colab": {}
      },
      "source": [
        "b = tf.get_variable(\"b\", initializer=tf.zeros([3,1],tf.float32))"
      ],
      "execution_count": null,
      "outputs": []
    },
    {
      "cell_type": "code",
      "metadata": {
        "id": "g2MhAbQssRBL",
        "colab_type": "code",
        "colab": {
          "base_uri": "https://localhost:8080/",
          "height": 34
        },
        "outputId": "f133ba2a-7d9b-4f13-d02a-73cd416c7735"
      },
      "source": [
        "x"
      ],
      "execution_count": null,
      "outputs": [
        {
          "output_type": "execute_result",
          "data": {
            "text/plain": [
              "<tf.Tensor 'Placeholder:0' shape=(3, 1) dtype=float32>"
            ]
          },
          "metadata": {
            "tags": []
          },
          "execution_count": 14
        }
      ]
    },
    {
      "cell_type": "code",
      "metadata": {
        "id": "vNK2N9JGB7p1",
        "colab_type": "code",
        "colab": {}
      },
      "source": [
        "y = tf.nn.relu(tf.matmul(w,x) + b)"
      ],
      "execution_count": null,
      "outputs": []
    },
    {
      "cell_type": "code",
      "metadata": {
        "id": "uljlAdWjB7p3",
        "colab_type": "code",
        "colab": {
          "base_uri": "https://localhost:8080/",
          "height": 34
        },
        "outputId": "87f98ee8-6b5e-4387-894c-7c910a9c5d52"
      },
      "source": [
        "y"
      ],
      "execution_count": null,
      "outputs": [
        {
          "output_type": "execute_result",
          "data": {
            "text/plain": [
              "<tf.Tensor 'Relu:0' shape=(3, 1) dtype=float32>"
            ]
          },
          "metadata": {
            "tags": []
          },
          "execution_count": 18
        }
      ]
    },
    {
      "cell_type": "markdown",
      "metadata": {
        "id": "hSPhLZkpB7p6",
        "colab_type": "text"
      },
      "source": [
        "## Evaluating Graphs with placeholders and variables"
      ]
    },
    {
      "cell_type": "code",
      "metadata": {
        "id": "mXvUxVnzB7p6",
        "colab_type": "code",
        "colab": {}
      },
      "source": [
        "with tf.Session() as sess:\n",
        "    sess.run(tf.global_variables_initializer())\n",
        "    y_val = sess.run(y,feed_dict={x:[[1],[-2],[3]]})"
      ],
      "execution_count": null,
      "outputs": []
    },
    {
      "cell_type": "code",
      "metadata": {
        "id": "Zjw-u_UlB7p8",
        "colab_type": "code",
        "colab": {
          "base_uri": "https://localhost:8080/",
          "height": 69
        },
        "outputId": "9206b2d2-fb5b-461a-d6cd-27dc78095686"
      },
      "source": [
        "y_val"
      ],
      "execution_count": null,
      "outputs": [
        {
          "output_type": "execute_result",
          "data": {
            "text/plain": [
              "array([[1.4852147],\n",
              "       [3.0330095],\n",
              "       [4.1795287]], dtype=float32)"
            ]
          },
          "metadata": {
            "tags": []
          },
          "execution_count": 22
        }
      ]
    },
    {
      "cell_type": "code",
      "metadata": {
        "id": "9nuc6337B7p_",
        "colab_type": "code",
        "colab": {}
      },
      "source": [
        "fdict= { x:[[1],[-2],[3]],\n",
        "         b:[[-10],[-10],[-10]]}"
      ],
      "execution_count": null,
      "outputs": []
    },
    {
      "cell_type": "code",
      "metadata": {
        "id": "6BqaBy3-B7qC",
        "colab_type": "code",
        "colab": {}
      },
      "source": [
        "with tf.Session() as sess:\n",
        "    sess.run(tf.global_variables_initializer())\n",
        "    y_val,b_val = sess.run([y,b],feed_dict=fdict)"
      ],
      "execution_count": null,
      "outputs": []
    },
    {
      "cell_type": "code",
      "metadata": {
        "id": "a_t1nQe-B7qF",
        "colab_type": "code",
        "colab": {
          "base_uri": "https://localhost:8080/",
          "height": 69
        },
        "outputId": "ebeaaf42-6522-4020-d399-d022c31eb588"
      },
      "source": [
        "y_val"
      ],
      "execution_count": null,
      "outputs": [
        {
          "output_type": "execute_result",
          "data": {
            "text/plain": [
              "array([[0.],\n",
              "       [0.],\n",
              "       [0.]], dtype=float32)"
            ]
          },
          "metadata": {
            "tags": []
          },
          "execution_count": 20
        }
      ]
    },
    {
      "cell_type": "code",
      "metadata": {
        "id": "8iosIWumB7qH",
        "colab_type": "code",
        "colab": {
          "base_uri": "https://localhost:8080/",
          "height": 69
        },
        "outputId": "8b21729a-afa2-4e62-d6b8-f552cbb7526a"
      },
      "source": [
        "b_val"
      ],
      "execution_count": null,
      "outputs": [
        {
          "output_type": "execute_result",
          "data": {
            "text/plain": [
              "array([[-10.],\n",
              "       [-10.],\n",
              "       [-10.]], dtype=float32)"
            ]
          },
          "metadata": {
            "tags": []
          },
          "execution_count": 25
        }
      ]
    },
    {
      "cell_type": "code",
      "metadata": {
        "id": "GR6WDNsbB7qL",
        "colab_type": "code",
        "colab": {}
      },
      "source": [
        "with tf.Session() as sess:\n",
        "    sess.run(  tf.assign(w, 100*tf.ones([3,3]))  )\n",
        "    y_val,b_val = sess.run([y,b],feed_dict=fdict)"
      ],
      "execution_count": null,
      "outputs": []
    },
    {
      "cell_type": "code",
      "metadata": {
        "id": "yLy8XSlRB7qN",
        "colab_type": "code",
        "colab": {
          "base_uri": "https://localhost:8080/",
          "height": 69
        },
        "outputId": "9ecfb092-a71b-4c73-f83f-7dbb2ad27aca"
      },
      "source": [
        "y_val"
      ],
      "execution_count": null,
      "outputs": [
        {
          "output_type": "execute_result",
          "data": {
            "text/plain": [
              "array([[190.],\n",
              "       [190.],\n",
              "       [190.]], dtype=float32)"
            ]
          },
          "metadata": {
            "tags": []
          },
          "execution_count": 27
        }
      ]
    },
    {
      "cell_type": "code",
      "metadata": {
        "id": "Y8Fbrq53B7qO",
        "colab_type": "code",
        "colab": {
          "base_uri": "https://localhost:8080/",
          "height": 69
        },
        "outputId": "1499ec0a-1434-44c0-cd33-cf66e45d0ceb"
      },
      "source": [
        "b_val"
      ],
      "execution_count": null,
      "outputs": [
        {
          "output_type": "execute_result",
          "data": {
            "text/plain": [
              "array([[-10.],\n",
              "       [-10.],\n",
              "       [-10.]], dtype=float32)"
            ]
          },
          "metadata": {
            "tags": []
          },
          "execution_count": 28
        }
      ]
    },
    {
      "cell_type": "markdown",
      "metadata": {
        "id": "fZ35bMbBB7qR",
        "colab_type": "text"
      },
      "source": [
        "## Build Two Layers"
      ]
    },
    {
      "cell_type": "code",
      "metadata": {
        "id": "3HYWUCEQB7qS",
        "colab_type": "code",
        "colab": {}
      },
      "source": [
        "tf.reset_default_graph()"
      ],
      "execution_count": null,
      "outputs": []
    },
    {
      "cell_type": "code",
      "metadata": {
        "id": "C1TY72ZlB7qT",
        "colab_type": "code",
        "colab": {}
      },
      "source": [
        "x = tf.placeholder(tf.float32, shape = [2,None])\n",
        "w1 = tf.get_variable(\"w1\", initializer=0.1*tf.truncated_normal([2,2]))\n",
        "b1 = tf.get_variable(\"b1\", initializer=tf.zeros([2,1],tf.float32))\n",
        "w2 = tf.get_variable(\"w2\", initializer=0.1*tf.truncated_normal([2,2]))\n",
        "b2 = tf.get_variable(\"b2\", initializer=tf.zeros([2,1],tf.float32))"
      ],
      "execution_count": null,
      "outputs": []
    },
    {
      "cell_type": "code",
      "metadata": {
        "id": "y_e--cz6B7qV",
        "colab_type": "code",
        "colab": {}
      },
      "source": [
        "a1 = tf.nn.relu(tf.matmul(w1,x) + b1)\n",
        "theta = tf.matmul(w2,a1) + b2\n",
        "ypred = tf.nn.softmax(theta,axis=0)"
      ],
      "execution_count": null,
      "outputs": []
    },
    {
      "cell_type": "code",
      "metadata": {
        "id": "CGAb9gZfB7qX",
        "colab_type": "code",
        "colab": {}
      },
      "source": [
        "with tf.Session() as sess:\n",
        "    sess.run(tf.global_variables_initializer())\n",
        "    y_val = sess.run(ypred,feed_dict={x:[[1,2,4],[-2,2,4]]})"
      ],
      "execution_count": null,
      "outputs": []
    },
    {
      "cell_type": "code",
      "metadata": {
        "id": "_m5XV_nHB7qZ",
        "colab_type": "code",
        "colab": {
          "base_uri": "https://localhost:8080/",
          "height": 52
        },
        "outputId": "f10186db-fce5-454f-8f73-17f89f469de9"
      },
      "source": [
        "y_val"
      ],
      "execution_count": null,
      "outputs": [
        {
          "output_type": "execute_result",
          "data": {
            "text/plain": [
              "array([[0.4971369 , 0.4962619 , 0.4925243 ],\n",
              "       [0.50286305, 0.50373805, 0.50747573]], dtype=float32)"
            ]
          },
          "metadata": {
            "tags": []
          },
          "execution_count": 33
        }
      ]
    },
    {
      "cell_type": "markdown",
      "metadata": {
        "id": "_qpmyQbOB7qc",
        "colab_type": "text"
      },
      "source": [
        "## Create some data"
      ]
    },
    {
      "cell_type": "code",
      "metadata": {
        "id": "rbHJqzl-B7qd",
        "colab_type": "code",
        "colab": {
          "base_uri": "https://localhost:8080/",
          "height": 286
        },
        "outputId": "1434b462-0d91-4d41-96ad-1838040ceb40"
      },
      "source": [
        "data = np.random.rand(500,2)\n",
        "xd,yd = data.T\n",
        "plt.plot(xd,yd,'ro')"
      ],
      "execution_count": null,
      "outputs": [
        {
          "output_type": "execute_result",
          "data": {
            "text/plain": [
              "[<matplotlib.lines.Line2D at 0x7f43fbc7ef28>]"
            ]
          },
          "metadata": {
            "tags": []
          },
          "execution_count": 34
        },
        {
          "output_type": "display_data",
          "data": {
            "image/png": "[encoded data removed]",
            "text/plain": [
              "<Figure size 432x288 with 1 Axes>"
            ]
          },
          "metadata": {
            "tags": []
          }
        }
      ]
    },
    {
      "cell_type": "code",
      "metadata": {
        "id": "oGDRIP9EB7qf",
        "colab_type": "code",
        "colab": {}
      },
      "source": [
        "yclass = (xd-1)**10 +(yd-1)**10 <0.7**10"
      ],
      "execution_count": null,
      "outputs": []
    },
    {
      "cell_type": "code",
      "metadata": {
        "id": "kPXevrRpB7qh",
        "colab_type": "code",
        "colab": {}
      },
      "source": [
        "yclass = (xd-0.5)**2 +(yd-0.5)**2 <0.1"
      ],
      "execution_count": null,
      "outputs": []
    },
    {
      "cell_type": "code",
      "metadata": {
        "id": "aiB2JT0qB7qj",
        "colab_type": "code",
        "colab": {}
      },
      "source": [
        "yclass = (xd-0.5) +(yd-0.5) <0.1"
      ],
      "execution_count": null,
      "outputs": []
    },
    {
      "cell_type": "code",
      "metadata": {
        "id": "WFXaK4b3B7ql",
        "colab_type": "code",
        "colab": {
          "base_uri": "https://localhost:8080/",
          "height": 286
        },
        "outputId": "3d2913bf-f198-40db-ad2b-715132610bd3"
      },
      "source": [
        "y_ones = np.where(yclass==1)\n",
        "plt.plot(xd,yd,'ro')\n",
        "plt.plot(xd[y_ones],yd[y_ones],'bo')"
      ],
      "execution_count": null,
      "outputs": [
        {
          "output_type": "execute_result",
          "data": {
            "text/plain": [
              "[<matplotlib.lines.Line2D at 0x7f43f8fd0f98>]"
            ]
          },
          "metadata": {
            "tags": []
          },
          "execution_count": 63
        },
        {
          "output_type": "display_data",
          "data": {
            "image/png": "[encoded data removed]",
            "text/plain": [
              "<Figure size 432x288 with 1 Axes>"
            ]
          },
          "metadata": {
            "tags": []
          }
        }
      ]
    },
    {
      "cell_type": "code",
      "metadata": {
        "id": "GwG8j0KsB7qn",
        "colab_type": "code",
        "colab": {}
      },
      "source": [
        "with tf.Session() as sess:\n",
        "    sess.run(tf.global_variables_initializer())\n",
        "    y_val = sess.run(ypred,feed_dict={x:data.T})"
      ],
      "execution_count": null,
      "outputs": []
    },
    {
      "cell_type": "code",
      "metadata": {
        "id": "RvRNowdaB7qq",
        "colab_type": "code",
        "colab": {
          "base_uri": "https://localhost:8080/",
          "height": 286
        },
        "outputId": "8225deb7-37cf-4233-8abd-44c3d8fc871f"
      },
      "source": [
        "y_ones = np.where(y_val[0]>0.5)\n",
        "plt.plot(xd,yd,'ro')\n",
        "plt.plot(xd[y_ones],yd[y_ones],'bo')"
      ],
      "execution_count": null,
      "outputs": [
        {
          "output_type": "execute_result",
          "data": {
            "text/plain": [
              "[<matplotlib.lines.Line2D at 0x7f43f8f516d8>]"
            ]
          },
          "metadata": {
            "tags": []
          },
          "execution_count": 65
        },
        {
          "output_type": "display_data",
          "data": {
            "image/png": "[encoded data removed]",
            "text/plain": [
              "<Figure size 432x288 with 1 Axes>"
            ]
          },
          "metadata": {
            "tags": []
          }
        }
      ]
    },
    {
      "cell_type": "markdown",
      "metadata": {
        "id": "7yhbc4ITB7qu",
        "colab_type": "text"
      },
      "source": [
        "## Loss function"
      ]
    },
    {
      "cell_type": "code",
      "metadata": {
        "id": "3PCiYRukB7qu",
        "colab_type": "code",
        "colab": {}
      },
      "source": [
        "y_data = tf.placeholder(tf.int32, shape = [None])\n",
        "y = tf.one_hot(y_data,2)"
      ],
      "execution_count": null,
      "outputs": []
    },
    {
      "cell_type": "code",
      "metadata": {
        "id": "3Y51MUfGB7qx",
        "colab_type": "code",
        "colab": {}
      },
      "source": [
        "cost = tf.reduce_mean(tf.nn.softmax_cross_entropy_with_logits_v2(\n",
        "    labels = y,\n",
        "    logits = tf.transpose(theta)\n",
        "))"
      ],
      "execution_count": null,
      "outputs": []
    },
    {
      "cell_type": "code",
      "metadata": {
        "id": "xu8LTqXMB7qy",
        "colab_type": "code",
        "colab": {}
      },
      "source": [
        "with tf.Session() as sess:\n",
        "    sess.run(tf.global_variables_initializer())\n",
        "    cost_val = sess.run(cost,feed_dict={x:data.T,y_data:yclass})"
      ],
      "execution_count": null,
      "outputs": []
    },
    {
      "cell_type": "code",
      "metadata": {
        "id": "BL9qnpSaB7q3",
        "colab_type": "code",
        "colab": {
          "base_uri": "https://localhost:8080/",
          "height": 34
        },
        "outputId": "bfe33063-2385-4ec8-b922-8b38c2a21fb3"
      },
      "source": [
        "cost_val"
      ],
      "execution_count": null,
      "outputs": [
        {
          "output_type": "execute_result",
          "data": {
            "text/plain": [
              "0.69315517"
            ]
          },
          "metadata": {
            "tags": []
          },
          "execution_count": 69
        }
      ]
    },
    {
      "cell_type": "markdown",
      "metadata": {
        "id": "G_ZY5TUqB7q5",
        "colab_type": "text"
      },
      "source": [
        "## Gradients"
      ]
    },
    {
      "cell_type": "code",
      "metadata": {
        "id": "xVWcrAkrB7q6",
        "colab_type": "code",
        "colab": {}
      },
      "source": [
        "dw1,db1,dw2,db2 = tf.gradients(xs = [w1,b1,w2,b2 ], ys = cost)"
      ],
      "execution_count": null,
      "outputs": []
    },
    {
      "cell_type": "code",
      "metadata": {
        "id": "1PvD4FW1B7q9",
        "colab_type": "code",
        "colab": {
          "base_uri": "https://localhost:8080/",
          "height": 34
        },
        "outputId": "b969bd33-5684-4166-d951-858ceaa60677"
      },
      "source": [
        "dw1"
      ],
      "execution_count": null,
      "outputs": [
        {
          "output_type": "execute_result",
          "data": {
            "text/plain": [
              "<tf.Tensor 'gradients_1/MatMul_grad/MatMul:0' shape=(2, 2) dtype=float32>"
            ]
          },
          "metadata": {
            "tags": []
          },
          "execution_count": 71
        }
      ]
    },
    {
      "cell_type": "code",
      "metadata": {
        "id": "x9WLXzG8B7rA",
        "colab_type": "code",
        "colab": {}
      },
      "source": [
        "with tf.Session() as sess:\n",
        "    sess.run(tf.global_variables_initializer())\n",
        "    cost_val = sess.run(cost,feed_dict={x:data.T,y_data:yclass})\n",
        "    dw1_val,db1_val,dw2_val,db2_val = sess.run([dw1,db1,dw2,db2],feed_dict={x:data.T,y_data:yclass})"
      ],
      "execution_count": null,
      "outputs": []
    },
    {
      "cell_type": "code",
      "metadata": {
        "id": "p7HWFaLWB7rE",
        "colab_type": "code",
        "colab": {
          "base_uri": "https://localhost:8080/",
          "height": 104
        },
        "outputId": "ad1d0ec2-5b1b-47db-9103-07f42f578ece"
      },
      "source": [
        "dw1_val,db1_val,dw2_val,db2_val"
      ],
      "execution_count": null,
      "outputs": [
        {
          "output_type": "execute_result",
          "data": {
            "text/plain": [
              "(array([[0.00031013, 0.00023384],\n",
              "        [0.00427203, 0.00881111]], dtype=float32), array([[-0.00166157],\n",
              "        [-0.01082796]], dtype=float32), array([[-0.00100135, -0.00050431],\n",
              "        [ 0.00100135,  0.00050431]], dtype=float32), array([[ 0.11936064],\n",
              "        [-0.11936064]], dtype=float32))"
            ]
          },
          "metadata": {
            "tags": []
          },
          "execution_count": 73
        }
      ]
    },
    {
      "cell_type": "markdown",
      "metadata": {
        "id": "YmboSeloB7rG",
        "colab_type": "text"
      },
      "source": [
        "## Gradient Descent operation"
      ]
    },
    {
      "cell_type": "code",
      "metadata": {
        "id": "V0pmbk_gB7rG",
        "colab_type": "code",
        "colab": {}
      },
      "source": [
        "alpha = 0.1"
      ],
      "execution_count": null,
      "outputs": []
    },
    {
      "cell_type": "code",
      "metadata": {
        "id": "QE3Cq-pjB7rI",
        "colab_type": "code",
        "colab": {}
      },
      "source": [
        "grad_descent = [ tf.assign(w1, w1 - alpha*dw1 ),\n",
        "                 tf.assign(b1, b1 - alpha*db1 ),\n",
        "                 tf.assign(w2, w2 - alpha*dw2 ),\n",
        "                 tf.assign(b2, b2 - alpha*db2 ),\n",
        "               ]"
      ],
      "execution_count": null,
      "outputs": []
    },
    {
      "cell_type": "code",
      "metadata": {
        "id": "6r-4vH_UyPgr",
        "colab_type": "code",
        "colab": {}
      },
      "source": [
        "sess.close()"
      ],
      "execution_count": null,
      "outputs": []
    },
    {
      "cell_type": "code",
      "metadata": {
        "id": "JsfCIWdrB7rL",
        "colab_type": "code",
        "colab": {}
      },
      "source": [
        "sess = tf.Session()\n",
        "sess.run(tf.global_variables_initializer())\n",
        "cost_vals=[]"
      ],
      "execution_count": null,
      "outputs": []
    },
    {
      "cell_type": "code",
      "metadata": {
        "id": "kOFoXmVrB7rM",
        "colab_type": "code",
        "colab": {
          "base_uri": "https://localhost:8080/",
          "height": 34
        },
        "outputId": "7e145d4e-9eaa-4253-f372-485e4a94dae8"
      },
      "source": [
        "cost_val = sess.run(cost,feed_dict={x:data.T,y_data:yd})\n",
        "cost_val"
      ],
      "execution_count": null,
      "outputs": [
        {
          "output_type": "execute_result",
          "data": {
            "text/plain": [
              "0.6923035"
            ]
          },
          "metadata": {
            "tags": []
          },
          "execution_count": 78
        }
      ]
    },
    {
      "cell_type": "code",
      "metadata": {
        "id": "gDyrO35HB7rN",
        "colab_type": "code",
        "colab": {
          "base_uri": "https://localhost:8080/",
          "height": 286
        },
        "outputId": "a8f3e15f-7242-48f6-ed02-c2a2cdefb2e0"
      },
      "source": [
        "cost_vals += [sess.run(cost,feed_dict={x:data.T,y_data:yclass})]\n",
        "sess.run(grad_descent,feed_dict={x:data.T,y_data:yclass})\n",
        "plt.plot(cost_vals)"
      ],
      "execution_count": null,
      "outputs": [
        {
          "output_type": "execute_result",
          "data": {
            "text/plain": [
              "[<matplotlib.lines.Line2D at 0x7f43f7e03f98>]"
            ]
          },
          "metadata": {
            "tags": []
          },
          "execution_count": 79
        },
        {
          "output_type": "display_data",
          "data": {
            "image/png": "[encoded data removed]",
            "text/plain": [
              "<Figure size 432x288 with 1 Axes>"
            ]
          },
          "metadata": {
            "tags": []
          }
        }
      ]
    },
    {
      "cell_type": "code",
      "metadata": {
        "id": "Eus_9blkB7rP",
        "colab_type": "code",
        "colab": {
          "base_uri": "https://localhost:8080/",
          "height": 286
        },
        "outputId": "c68e4fad-9bab-4b2a-bd7b-5912ac6637fd"
      },
      "source": [
        "for i in range(1000):\n",
        "    cost_vals += [sess.run(cost,feed_dict={x:data.T,y_data:yclass})]\n",
        "    sess.run(grad_descent,feed_dict={x:data.T,y_data:yclass})\n",
        "plt.plot(cost_vals)"
      ],
      "execution_count": null,
      "outputs": [
        {
          "output_type": "execute_result",
          "data": {
            "text/plain": [
              "[<matplotlib.lines.Line2D at 0x7f43f7d6a390>]"
            ]
          },
          "metadata": {
            "tags": []
          },
          "execution_count": 80
        },
        {
          "output_type": "display_data",
          "data": {
            "image/png": "[encoded data removed]",
            "text/plain": [
              "<Figure size 432x288 with 1 Axes>"
            ]
          },
          "metadata": {
            "tags": []
          }
        }
      ]
    },
    {
      "cell_type": "code",
      "metadata": {
        "id": "ATn9dvwHB7rR",
        "colab_type": "code",
        "colab": {
          "base_uri": "https://localhost:8080/",
          "height": 34
        },
        "outputId": "59506e49-e528-400a-b5d8-f264b4a7db82"
      },
      "source": [
        "cost_val = sess.run(cost,feed_dict={x:data.T,y_data:yclass})\n",
        "cost_val"
      ],
      "execution_count": null,
      "outputs": [
        {
          "output_type": "execute_result",
          "data": {
            "text/plain": [
              "0.092604645"
            ]
          },
          "metadata": {
            "tags": []
          },
          "execution_count": 81
        }
      ]
    },
    {
      "cell_type": "code",
      "metadata": {
        "id": "hqvMgS6ZB7rT",
        "colab_type": "code",
        "colab": {}
      },
      "source": [
        "ypred_val = sess.run(ypred,feed_dict={x:data.T,y_data:yclass})"
      ],
      "execution_count": null,
      "outputs": []
    },
    {
      "cell_type": "code",
      "metadata": {
        "id": "ugQy49MXycdw",
        "colab_type": "code",
        "colab": {}
      },
      "source": [
        ""
      ],
      "execution_count": null,
      "outputs": []
    },
    {
      "cell_type": "code",
      "metadata": {
        "id": "Ilczz_dRB7rV",
        "colab_type": "code",
        "colab": {
          "base_uri": "https://localhost:8080/",
          "height": 286
        },
        "outputId": "d95db606-836a-4f6f-b43a-fc3f0a4df3cd"
      },
      "source": [
        "y_ones = np.where(ypred_val[1]>0.4)\n",
        "plt.plot(xd,yd,'ro')\n",
        "plt.plot(xd[y_ones],yd[y_ones],'bo')"
      ],
      "execution_count": null,
      "outputs": [
        {
          "output_type": "execute_result",
          "data": {
            "text/plain": [
              "[<matplotlib.lines.Line2D at 0x7f43f7eb8390>]"
            ]
          },
          "metadata": {
            "tags": []
          },
          "execution_count": 83
        },
        {
          "output_type": "display_data",
          "data": {
            "image/png": "[encoded data removed]",
            "text/plain": [
              "<Figure size 432x288 with 1 Axes>"
            ]
          },
          "metadata": {
            "tags": []
          }
        }
      ]
    },
    {
      "cell_type": "code",
      "metadata": {
        "id": "-b7zGf4XB7rX",
        "colab_type": "code",
        "colab": {
          "base_uri": "https://localhost:8080/",
          "height": 286
        },
        "outputId": "32c20589-74a7-4a63-84e8-bf1e62f007ab"
      },
      "source": [
        "y_ones = np.where(yclass==1)\n",
        "plt.plot(xd,yd,'ro')\n",
        "plt.plot(xd[y_ones],yd[y_ones],'bo')"
      ],
      "execution_count": null,
      "outputs": [
        {
          "output_type": "execute_result",
          "data": {
            "text/plain": [
              "[<matplotlib.lines.Line2D at 0x7f43f7d45d30>]"
            ]
          },
          "metadata": {
            "tags": []
          },
          "execution_count": 84
        },
        {
          "output_type": "display_data",
          "data": {
            "image/png": "[encoded data removed]",
            "text/plain": [
              "<Figure size 432x288 with 1 Axes>"
            ]
          },
          "metadata": {
            "tags": []
          }
        }
      ]
    },
    {
      "cell_type": "code",
      "metadata": {
        "id": "iUeDDMMeB7rZ",
        "colab_type": "code",
        "colab": {}
      },
      "source": [
        ""
      ],
      "execution_count": null,
      "outputs": []
    },
    {
      "cell_type": "code",
      "metadata": {
        "id": "cezRhRoWB7ra",
        "colab_type": "code",
        "colab": {}
      },
      "source": [
        ""
      ],
      "execution_count": null,
      "outputs": []
    }
  ]
}