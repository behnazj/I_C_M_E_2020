{
  "nbformat": 4,
  "nbformat_minor": 0,
  "metadata": {
    "colab": {
      "name": "MPI_tutorial.ipynb",
      "provenance": [],
      "collapsed_sections": [],
      "toc_visible": true,
      "include_colab_link": true
    },
    "kernelspec": {
      "name": "python3",
      "display_name": "Python 3"
    }
  },
  "cells": [
    {
      "cell_type": "markdown",
      "metadata": {
        "id": "view-in-github",
        "colab_type": "text"
      },
      "source": [
        "<a href=\"https://colab.research.google.com/github/nazbeh/I_C_M_E_2020/blob/master/Workshop4/MPI_tutorial.ipynb\" target=\"_parent\"><img src=\"https://colab.research.google.com/assets/colab-badge.svg\" alt=\"Open In Colab\"/></a>"
      ]
    },
    {
      "cell_type": "markdown",
      "metadata": {
        "id": "llvgyTSDlGi9",
        "colab_type": "text"
      },
      "source": [
        "# MPI Tutorial "
      ]
    },
    {
      "cell_type": "markdown",
      "metadata": {
        "id": "oJ1_Pyu1lLVu",
        "colab_type": "text"
      },
      "source": [
        "## Hello World"
      ]
    },
    {
      "cell_type": "code",
      "metadata": {
        "id": "7SjBf9tM8D3h",
        "colab_type": "code",
        "colab": {}
      },
      "source": [
        "%%file mpi_hello_world.c\n",
        "#include <stdio.h>\n",
        "#include \"mpi.h\"\n",
        "\n",
        "int main(int argc, char **argv){ \n",
        "\n",
        "    MPI_Init(&argc, &argv);\n",
        "\n",
        "    int rank, size;\n",
        "    MPI_Comm_rank(MPI_COMM_WORLD, &rank);\n",
        "    MPI_Comm_size(MPI_COMM_WORLD, &size);\n",
        "\n",
        "    printf(\"Hello from processor  %d out of  %d\\n\", rank, size); \n",
        " \n",
        "    MPI_Finalize(); \n",
        "} "
      ],
      "execution_count": null,
      "outputs": []
    },
    {
      "cell_type": "markdown",
      "metadata": {
        "id": "zqDYF5sc8F0S",
        "colab_type": "text"
      },
      "source": [
        "Compile using ```mpicc``` "
      ]
    },
    {
      "cell_type": "code",
      "metadata": {
        "id": "QgdA5H0V8RKf",
        "colab_type": "code",
        "colab": {}
      },
      "source": [
        "!mpicc -o mpi_hello_world mpi_hello_world.c"
      ],
      "execution_count": null,
      "outputs": []
    },
    {
      "cell_type": "markdown",
      "metadata": {
        "id": "9DXtCPxalg4y",
        "colab_type": "text"
      },
      "source": [
        "Execute using ```mpirun```and specify the number of ranks using ```-n```. \n",
        "\n",
        "Note: Do no use the flag ```--allow-run-as-root```in your personal applications. This is a particular case for Google Colaboratory"
      ]
    },
    {
      "cell_type": "code",
      "metadata": {
        "id": "0IQAOpph8VTT",
        "colab_type": "code",
        "colab": {}
      },
      "source": [
        "!mpirun -n 4 --allow-run-as-root ./mpi_hello_world"
      ],
      "execution_count": null,
      "outputs": []
    },
    {
      "cell_type": "markdown",
      "metadata": {
        "id": "3qQFQXLQmfr6",
        "colab_type": "text"
      },
      "source": [
        "## Example: Compute Pi"
      ]
    },
    {
      "cell_type": "code",
      "metadata": {
        "id": "Jd18cEormiij",
        "colab_type": "code",
        "colab": {}
      },
      "source": [
        "%%file pi_mpi.c\n",
        "#include <stdio.h>\n",
        "#include \"mpi.h\"\n",
        "int main(int argc, char **argv){\n",
        "    MPI_Init(&argc,&argv);\n",
        "    int rank,size;\n",
        "    MPI_Comm_rank(MPI_COMM_WORLD,&rank);\n",
        "    MPI_Comm_size(MPI_COMM_WORLD,&size);\n",
        "\n",
        "    int n = 10000;\n",
        "    double total;\n",
        "    double s = 0.;\n",
        "    for (int i = rank; i< n; i+= size){\n",
        "        s+= 4./ (1.+(i+0.5)*(i+0.5)/(double)(n*n))*1./(double) n;\n",
        "    }\n",
        "    MPI_Reduce(&s,&total,1,MPI_DOUBLE,MPI_SUM,0,MPI_COMM_WORLD);\n",
        "    if (rank == 0){\n",
        "        printf(\"Pi is %f\\n\",total);\n",
        "    }\n",
        "    MPI_Finalize();\n",
        "}"
      ],
      "execution_count": null,
      "outputs": []
    },
    {
      "cell_type": "code",
      "metadata": {
        "id": "qPehAy_anwUM",
        "colab_type": "code",
        "colab": {}
      },
      "source": [
        "!mpicc -o pi_mpi pi_mpi.c"
      ],
      "execution_count": null,
      "outputs": []
    },
    {
      "cell_type": "code",
      "metadata": {
        "id": "HRONQ4PAn5Tz",
        "colab_type": "code",
        "colab": {}
      },
      "source": [
        "!mpirun -n 4 --allow-run-as-root ./pi_mpi"
      ],
      "execution_count": null,
      "outputs": []
    },
    {
      "cell_type": "markdown",
      "metadata": {
        "id": "AUtfKh4dTb83",
        "colab_type": "text"
      },
      "source": [
        "# Example: Laplacian MPI"
      ]
    },
    {
      "cell_type": "markdown",
      "metadata": {
        "id": "G2yUgyubo_dx",
        "colab_type": "text"
      },
      "source": [
        "### Sequential Version"
      ]
    },
    {
      "cell_type": "code",
      "metadata": {
        "id": "ul70fh2m8kJF",
        "colab_type": "code",
        "colab": {}
      },
      "source": [
        "%%file laplacian.cpp\n",
        "\n",
        "#include <math.h>\n",
        "#include <stdio.h>\n",
        "#include <stdlib.h>\n",
        "\n",
        "int main(int argc, char* argv[])\n",
        "{\n",
        "    const int N1 = 1024;\n",
        "    const int N2 = 1024;\n",
        "    const int ITER = 100;\n",
        "    const int EPS = 0.1;\n",
        "\n",
        "    double* a = (double*) malloc((N1 * N2)*sizeof(double));\n",
        "    double* b = (double*) malloc((N1 * N2)*sizeof(double));\n",
        "    double x[N1];\n",
        "    double y[N2];\n",
        "    \n",
        "    int row;\n",
        "\n",
        "    //Initialize arrays x and y\n",
        "    for(int i = 0; i < N1; ++i)\n",
        "        x[i] = i / (double)(N1 - 1);\n",
        "    \n",
        "    for(int j = 0; j < N2; ++j)\n",
        "        y[j] = j / (double)(N2 - 1);\n",
        "\n",
        "\n",
        "    //Initialize a and b\n",
        "    for(int i = 0 ; i < N1; ++i){\n",
        "        row = i * N2;\n",
        "        if (x[i] <= 0.5){\n",
        "             for(int j = 0; j < N2; ++j){\n",
        "                a[row + j] = cos(x[i] + y[j]);\n",
        "                b[row + j] = a[row + j];}}\n",
        "        else{\n",
        "            for(int j = 0; j < N2; ++j){\n",
        "                a[row + j] = sin(x[i] + y[j]);\n",
        "                b[row + j] = a[row + j];}}}\n",
        "\n",
        "    \n",
        "    for(int n = 0; n < ITER; ++n){\n",
        "        //Laplacian smoothing\n",
        "        for(int i = 1; i < (N1 - 1); ++i){\n",
        "            row = i * N2;\n",
        "            for(int j = 1; j < (N2 - 1); ++j){\n",
        "                a[row + j] = b[row + j] + EPS * (b[row + j - 1] +\n",
        "                             b[row + j + 1] - 8.0 * b[row + j] + b[row + j - N2] +\n",
        "                             b[row + j - N2 - 1] + b[row + j - N2 + 1] + \n",
        "                             b[row + j + N2] + b[row + j + N2 + 1] + b[row + j + N2 -1]);   \n",
        "            }\n",
        "        }\n",
        "\n",
        "        //Copy a into b\n",
        "        for(int i = 1; i < (N1 - 1); ++i){\n",
        "            row = i * N2;\n",
        "            for(int j = 1; j < (N2 - 1); ++j)\n",
        "                b[row + j] = a[row + j];\n",
        "        }\n",
        "    }\n",
        "    double average_temperature = 0;\n",
        "    for(int i = 1; i < (N1 - 1); ++i){\n",
        "       row = i * N2;\n",
        "       for(int j = 1; j < (N2 - 1); ++j)\n",
        "          average_temperature += b[row + j];}\n",
        "    average_temperature = average_temperature/(double)((N1-2) * (N2-2));\n",
        " \n",
        "    printf(\"average temp = %.3f\\n\",average_temperature);  \n",
        "\n",
        "    free(a);\n",
        "    free(b);\n",
        "}"
      ],
      "execution_count": null,
      "outputs": []
    },
    {
      "cell_type": "code",
      "metadata": {
        "id": "X1x8cUf6pTZv",
        "colab_type": "code",
        "colab": {}
      },
      "source": [
        "!g++ -o laplacian laplacian.cpp"
      ],
      "execution_count": null,
      "outputs": []
    },
    {
      "cell_type": "code",
      "metadata": {
        "id": "CD4njOEeppBT",
        "colab_type": "code",
        "colab": {}
      },
      "source": [
        "!./laplacian"
      ],
      "execution_count": null,
      "outputs": []
    },
    {
      "cell_type": "markdown",
      "metadata": {
        "id": "U1Uf4GtaqVDR",
        "colab_type": "text"
      },
      "source": [
        "### MPI version "
      ]
    },
    {
      "cell_type": "code",
      "metadata": {
        "id": "NDyvqqlVW2GQ",
        "colab_type": "code",
        "colab": {}
      },
      "source": [
        "%%file laplace_mpi.c\n",
        "\n",
        "#include \"mpi.h\"\n",
        "#include <math.h>\n",
        "#include <stdio.h>\n",
        "#include <stdlib.h>\n",
        "\n",
        "int main(int argc, char* argv[])\n",
        "{\n",
        "    MPI_Init(&argc, &argv);\n",
        "    \n",
        "    double start,finish,time;\n",
        "    MPI_Barrier(MPI_COMM_WORLD);\n",
        "    start = MPI_Wtime();\n",
        " \n",
        "    //Problem parameters \n",
        "    const int  N1= 1024;\n",
        "    const int  N2= 1024;\n",
        "    const int  ITER = 100;\n",
        "    const double  EPS= 0.1;\n",
        "    \n",
        "    //Get identification wrt other ranks\n",
        "    int rank, size;\n",
        "    MPI_Comm_rank(MPI_COMM_WORLD, &rank);\n",
        "    MPI_Comm_size(MPI_COMM_WORLD, &size);\n",
        " \n",
        "    //Define number of elements\n",
        "    int n1;\n",
        "    int n2 = N2;\n",
        "    if (rank == 0){\n",
        "      n1 = N1/size + 1;}\n",
        "    else if (rank < (size-1)){\n",
        "      n1 = N1/size + 2;}\n",
        "    else{\n",
        "      n1 = N1 - size*(N1/size) + 1;}\n",
        " \n",
        "    //Initial coordinate in x\n",
        "    int i_0 = rank * (n1 - 2) - 1 ;\n",
        " \n",
        "   //Initial coordinate in y\n",
        "    int j_0 = 0;\n",
        "    int row;\n",
        "\n",
        "    //Define procesors in boundaries\n",
        "    int up_bd = rank-1;\n",
        "    int down_bd = rank+1;\n",
        " \n",
        "    //Create sparse matrices\n",
        "    double* a = (double*) malloc((n1 * n2)*sizeof(double));\n",
        "    double* b = (double*) malloc((n1 * n2)*sizeof(double));\n",
        "    double x[n1];\n",
        "    double y[n2];\n",
        "    \n",
        "    \n",
        "\n",
        "    //Initialize arrays x and y\n",
        "    for(int i = 0; i < n1; ++i){\n",
        "        x[i] = (i_0 + i) / (double)(N1 - 1);}\n",
        "    \n",
        "    for(int j = 0; j < n2; ++j){\n",
        "        y[j] = (j_0 + j) / (double)(N2 - 1);}\n",
        "\n",
        "\n",
        "    //Initialize a and b\n",
        "    for(int i = 0 ; i < n1; ++i){\n",
        "        row = i * n2;\n",
        "        if (x[i] <= 0.5){\n",
        "            for(int j = 0; j < n2; ++j){\n",
        "                a[row + j] = cos(x[i] + y[j]);\n",
        "                b[row + j] = a[row + j];}}\n",
        "        else{\n",
        "            for(int j = 0; j <n2; ++j){\n",
        "                a[row + j] = sin(x[i] + y[j]);\n",
        "                b[row + j] = a[row + j];}}}\n",
        "\n",
        "    //Laplacian smoothing    \n",
        "    MPI_Status status;\n",
        "    for(int n = 0; n < ITER; ++n){\n",
        "        //Laplacian smoothing\n",
        "        for(int i = 1; i < (n1 - 1); ++i){\n",
        "            row = i * n2;\n",
        "            for(int j = 1; j < (n2 - 1); ++j){\n",
        "                a[row + j] = b[row + j] + EPS * (b[row + j - 1] +\n",
        "                             b[row + j + 1] - 8.0 * b[row + j] + b[row + j - n2] +\n",
        "                             b[row + j - n2 - 1] + b[row + j - n2 + 1] + \n",
        "                             b[row + j + n2] + b[row + j + n2 + 1] + b[row + j + n2 -1]);}}   \n",
        "\n",
        "        //Copy a into b\n",
        "        for(int i = 1; i < (n1 - 1); ++i){\n",
        "            row = i * n2;\n",
        "            for(int j = 1; j < (n2 - 1); ++j)\n",
        "                b[row + j] = a[row + j];}\n",
        "\n",
        "        //Copy from other processors\n",
        "        if (rank > 0){\n",
        "            MPI_Send(&(b[n2]),n2,MPI_DOUBLE,up_bd,0,MPI_COMM_WORLD);\n",
        "            MPI_Recv(&(b[0]),n2,MPI_DOUBLE,up_bd,0,MPI_COMM_WORLD,&status);}\n",
        "\n",
        "        if (rank < (size-1)){\n",
        "            MPI_Recv(&(b[(n1 - 1) * n2]),n2,MPI_DOUBLE,down_bd,0,MPI_COMM_WORLD,&status);\n",
        "            MPI_Send(&(b[(n1 - 2) * n2]),n2,MPI_DOUBLE,down_bd,0,MPI_COMM_WORLD);}}\n",
        "   \n",
        "   \n",
        "   free(a);\n",
        "   free(b);  \n",
        "   MPI_Barrier(MPI_COMM_WORLD);\n",
        "   finish = MPI_Wtime();\n",
        "   time = finish - start;\n",
        "   printf(\"rank= %d, n1 = %d, time = %f\\n\",rank, n1, time);  \n",
        "  \n",
        "   MPI_Finalize();\n",
        "      \n",
        "}\n"
      ],
      "execution_count": null,
      "outputs": []
    },
    {
      "cell_type": "code",
      "metadata": {
        "id": "76mcSSAiW8Iw",
        "colab_type": "code",
        "colab": {}
      },
      "source": [
        "!mpicc -o  laplace_mpi laplace_mpi.c -lm"
      ],
      "execution_count": null,
      "outputs": []
    },
    {
      "cell_type": "code",
      "metadata": {
        "id": "7FO6_JWkjXAY",
        "colab_type": "code",
        "colab": {}
      },
      "source": [
        "!mpirun -n 10 --allow-run-as-root ./laplace_mpi"
      ],
      "execution_count": null,
      "outputs": []
    },
    {
      "cell_type": "markdown",
      "metadata": {
        "id": "xWMxx6GsGEHe",
        "colab_type": "text"
      },
      "source": [
        "### Exercise: Adding an average temperature\n",
        "\n",
        "In the previous code we forgot to compute the average temperature. In these case we want to compute the average temperature per rank and globally, complete the ```//To do```. Notice that you also need to complete some MPI code.\n",
        "\n",
        "It may be usfeul to know that the syntax\n",
        "```\n",
        "MPI_Bcast(*buffer, count, mpi type, from rank, mpi communicator);\n",
        "```\n",
        "For more information visit: https://www.open-mpi.org/doc/current/\n"
      ]
    },
    {
      "cell_type": "code",
      "metadata": {
        "id": "zKWtcmvhGDX5",
        "colab_type": "code",
        "colab": {}
      },
      "source": [
        "%%file laplace_mpi.c\n",
        "// To do here, add mpi header\n",
        "\n",
        "#include <math.h>\n",
        "#include <stdio.h>\n",
        "#include <stdlib.h>\n",
        "\n",
        "int main(int argc, char* argv[])\n",
        "{\n",
        "    // To do here, start MPI\n",
        "    \n",
        "    \n",
        "    double start,finish,time;\n",
        "    MPI_Barrier(MPI_COMM_WORLD);\n",
        "    start = MPI_Wtime();\n",
        " \n",
        "    //Problem parameters \n",
        "    const int  N1= 1024;\n",
        "    const int  N2= 1024;\n",
        "    const int  ITER = 100;\n",
        "    const double  EPS= 0.1;\n",
        "    \n",
        "    //To do here: get identification wrt other ranks\n",
        "    int rank, size;\n",
        "\n",
        "\n",
        "\n",
        "    //Define number of elements\n",
        "    int n1;\n",
        "    int n2 = N2;\n",
        "    if (rank == 0){\n",
        "      n1 = N1/size + 1;}\n",
        "    else if (rank < (size-1)){\n",
        "      n1 = N1/size + 2;}\n",
        "    else{\n",
        "      n1 = N1 - size*(N1/size) + 1;}\n",
        " \n",
        "    //Initial coordinate in x\n",
        "    int i_0 = rank * (n1 - 2) - 1 ;\n",
        " \n",
        "   //Initial coordinate in y\n",
        "    int j_0 = 0;\n",
        "    int row;\n",
        "\n",
        "    //Define procesors in boundaries\n",
        "    int up_bd = rank-1;\n",
        "    int down_bd = rank+1;\n",
        " \n",
        "    //Create sparse matrices\n",
        "    double* a = (double*) malloc((n1 * n2)*sizeof(double));\n",
        "    double* b = (double*) malloc((n1 * n2)*sizeof(double));\n",
        "    double x[n1];\n",
        "    double y[n2];\n",
        "    \n",
        "    \n",
        "\n",
        "    //Initialize arrays x and y\n",
        "    for(int i = 0; i < n1; ++i){\n",
        "        x[i] = (i_0 + i) / (double)(N1 - 1);}\n",
        "    \n",
        "    for(int j = 0; j < n2; ++j){\n",
        "        y[j] = (j_0 + j) / (double)(N2 - 1);}\n",
        "\n",
        "\n",
        "    //Initialize a and b\n",
        "    for(int i = 0 ; i < n1; ++i){\n",
        "        row = i * n2;\n",
        "        if (x[i] <= 0.5){\n",
        "            for(int j = 0; j < n2; ++j){\n",
        "                a[row + j] = cos(x[i] + y[j]);\n",
        "                b[row + j] = a[row + j];}}\n",
        "        else{\n",
        "            for(int j = 0; j <n2; ++j){\n",
        "                a[row + j] = sin(x[i] + y[j]);\n",
        "                b[row + j] = a[row + j];}}}\n",
        "\n",
        "    //Laplacian smoothing    \n",
        "    MPI_Status status;\n",
        "    for(int n = 0; n < ITER; ++n){\n",
        "        //Laplacian smoothing\n",
        "        for(int i = 1; i < (n1 - 1); ++i){\n",
        "            row = i * n2;\n",
        "            for(int j = 1; j < (n2 - 1); ++j){\n",
        "                a[row + j] = b[row + j] + EPS * (b[row + j - 1] +\n",
        "                             b[row + j + 1] - 8.0 * b[row + j] + b[row + j - n2] +\n",
        "                             b[row + j - n2 - 1] + b[row + j - n2 + 1] + \n",
        "                             b[row + j + n2] + b[row + j + n2 + 1] + b[row + j + n2 -1]);}}   \n",
        "\n",
        "        //Copy a into b\n",
        "        for(int i = 1; i < (n1 - 1); ++i){\n",
        "            row = i * n2;\n",
        "            for(int j = 1; j < (n2 - 1); ++j)\n",
        "                b[row + j] = a[row + j];}\n",
        "\n",
        "        //Copy from other processors\n",
        "        if (rank > 0){\n",
        "            MPI_Send(&(b[n2]),n2,MPI_DOUBLE,up_bd,0,MPI_COMM_WORLD);\n",
        "            MPI_Recv(&(b[0]),n2,MPI_DOUBLE,up_bd,0,MPI_COMM_WORLD,&status);}\n",
        "\n",
        "        if (rank < (size-1)){\n",
        "            MPI_Recv(&(b[(n1 - 1) * n2]),n2,MPI_DOUBLE,down_bd,0,MPI_COMM_WORLD,&status);\n",
        "            MPI_Send(&(b[(n1 - 2) * n2]),n2,MPI_DOUBLE,down_bd,0,MPI_COMM_WORLD);}}\n",
        "   \n",
        "   //Get average temperature\n",
        " \n",
        "   //Compute total sum temperature locally\n",
        "   double sum_temperature = 0;\n",
        "   for(int i = 1; i < (n1 - 1); ++i){\n",
        "       row = i * n2;\n",
        "       for(int j = 1; j < (n2 - 1); ++j)\n",
        "          sum_temperature += b[row + j];}\n",
        "   \n",
        "   // To do here: Reduce all the sum of temperatures to rank 0\n",
        "   double total_temperature;\n",
        "   \n",
        "   //Computes global average temperature\n",
        "   double average_temperature;\n",
        "   if (rank == 0){\n",
        "       average_temperature = total_temperature/(double)((N1-2) * (N2-2));\n",
        "   }\n",
        " \n",
        "   // To do here: Broadcast to all the global average temperature from rank 0\n",
        "   \n",
        "   double local_temperature = sum_temperature/(double)((n2-2)*(n1-2));\n",
        "   \n",
        "   free(a);\n",
        "   free(b);  \n",
        "   MPI_Barrier(MPI_COMM_WORLD);\n",
        "   finish = MPI_Wtime();\n",
        "   time = finish - start;\n",
        "   printf(\"rank= %d, n1 = %d, time = %f, global temp = %.3f, local temp = %.3f \\n\",rank, n1, time,average_temperature,local_temperature);  \n",
        "  \n",
        "   MPI_Finalize();\n",
        "      \n",
        "}"
      ],
      "execution_count": null,
      "outputs": []
    },
    {
      "cell_type": "markdown",
      "metadata": {
        "id": "6YcHMXO4Ia8H",
        "colab_type": "text"
      },
      "source": [
        "Once you are done, compile and execute the code"
      ]
    },
    {
      "cell_type": "code",
      "metadata": {
        "id": "Vpc_dmIMIe-g",
        "colab_type": "code",
        "colab": {}
      },
      "source": [
        "!mpicc -o  laplace_mpi laplace_mpi.c -lm"
      ],
      "execution_count": null,
      "outputs": []
    },
    {
      "cell_type": "code",
      "metadata": {
        "id": "6GPgt15JIoBb",
        "colab_type": "code",
        "colab": {}
      },
      "source": [
        "!mpirun -n 10 --allow-run-as-root ./laplace_mpi"
      ],
      "execution_count": null,
      "outputs": []
    },
    {
      "cell_type": "markdown",
      "metadata": {
        "id": "j3qwSlS7INy2",
        "colab_type": "text"
      },
      "source": [
        "### Exercise: Add efficiency\n",
        "\n",
        "Analyze the communication pattern of ```MPI_Send``` and ```MPI_Recv``` in the previous code, how can we make it more efficient? \n",
        "Modify the previous code, compile it and run it to see if your modifications result in a faster code.\n"
      ]
    },
    {
      "cell_type": "code",
      "metadata": {
        "id": "ME2VepWkj3yr",
        "colab_type": "code",
        "colab": {}
      },
      "source": [
        "%%file laplace_mpi.c\n",
        "\n",
        "      \n",
        "}"
      ],
      "execution_count": null,
      "outputs": []
    },
    {
      "cell_type": "markdown",
      "metadata": {
        "id": "F_PpMBOOJjq8",
        "colab_type": "text"
      },
      "source": [
        "## Exercise: Kmeans\n",
        "Bellow you find the sequential code of kmeans (same as the one in OpenMP), what modifications you would do to parallelize it in a distribute system?"
      ]
    },
    {
      "cell_type": "code",
      "metadata": {
        "id": "kFFjr0L3zris",
        "colab_type": "code",
        "colab": {}
      },
      "source": [
        "%%file kmeans.cpp\n",
        "#include <algorithm>\n",
        "#include <cstdlib>\n",
        "#include <limits>\n",
        "#include <random>\n",
        "#include <vector>\n",
        "\n",
        "struct Point {\n",
        "  double x{0}, y{0};\n",
        "};\n",
        "\n",
        "\n",
        "using DataFrame = std::vector<Point>;\n",
        "\n",
        "double squared_l2_distance(Point first, Point second) {\n",
        "  return std::pow(first.x - second.x,2) + std::pow(first.y - second.y,2);\n",
        "}\n",
        "\n",
        "\n",
        "int main (int argc, char* argv[]){ \n",
        "\n",
        "  size_t niter = 10;\n",
        "  size_t k = 2;\n",
        "  DataFrame data = {Point{1,2},Point{1,2},Point{3,4},Point{10,4},Point{3,4}};\n",
        "  \n",
        "// Pick centroids as random points from the dataset.\n",
        "  static std::random_device seed;\n",
        "  static std::mt19937 random_number_generator(seed());\n",
        "  std::uniform_int_distribution<size_t> indices(0, data.size() - 1);\n",
        "\n",
        "  DataFrame means(k);\n",
        "  for (auto& cluster : means) {\n",
        "    cluster = data[indices(random_number_generator)];\n",
        "  }\n",
        "\n",
        "\n",
        "  // Find assignments \n",
        "  std::vector<size_t> assignments(data.size());\n",
        "  for (size_t it = 0; it < niter; ++it) {\n",
        "    for (size_t point = 0; point < data.size(); ++point) {\n",
        "      \n",
        "      double min_distance = std::numeric_limits<double>::max();\n",
        "      size_t best_cluster = 0;\n",
        "      \n",
        "      for (size_t cluster = 0; cluster < k; ++cluster) {\n",
        "        const double distance =\n",
        "            squared_l2_distance(data[point], means[cluster]);\n",
        "        if (distance < min_distance) {\n",
        "          min_distance = distance;\n",
        "          best_cluster = cluster;\n",
        "        }\n",
        "      }\n",
        "\n",
        "      assignments[point] = best_cluster;\n",
        "    }\n",
        "\n",
        "    // Sum up and count points for each cluster.\n",
        "    double sum_x[k]={0};\n",
        "    int counts[k]={0};\n",
        "    double sum_y[k]={0};\n",
        "    for (size_t point = 0; point < data.size(); ++point) {\n",
        "      const auto cluster = assignments[point];\n",
        "      sum_x[cluster] += data[point].x;\n",
        "      sum_y[cluster] += data[point].y;\n",
        "      counts[cluster] += 1;\n",
        "    }\n",
        " \n",
        "\n",
        "    for (size_t cluster = 0; cluster < k; ++cluster) {\n",
        "      // Turn 0/0 into 0/1 to avoid zero division.\n",
        "      const auto count = std::max<size_t>(1, counts[cluster]);\n",
        "      means[cluster].x = sum_x[cluster] / (double) count;\n",
        "      means[cluster].y = sum_y[cluster] / (double) count;\n",
        "    }\n",
        "    \n",
        "\n",
        "  for (auto& centroid : means) {\n",
        "    printf(\"(%f,%f),\",centroid.x,centroid.y);\n",
        "  }\n",
        "  printf(\"\\n\");\n",
        "}\n",
        "}"
      ],
      "execution_count": null,
      "outputs": []
    },
    {
      "cell_type": "code",
      "metadata": {
        "id": "WZcfGdS12U9T",
        "colab_type": "code",
        "colab": {}
      },
      "source": [
        "!mpic++  -o  kmeans_mpi kmeans.cpp"
      ],
      "execution_count": null,
      "outputs": []
    },
    {
      "cell_type": "code",
      "metadata": {
        "id": "iLeRf9Rs2dh-",
        "colab_type": "code",
        "colab": {}
      },
      "source": [
        "!mpirun -n 16 --allow-run-as-root ./kmeans_mpi"
      ],
      "execution_count": null,
      "outputs": []
    }
  ]
}