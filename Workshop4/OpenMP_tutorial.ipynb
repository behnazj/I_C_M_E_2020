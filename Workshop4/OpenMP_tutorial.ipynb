{
  "nbformat": 4,
  "nbformat_minor": 0,
  "metadata": {
    "colab": {
      "name": "OpenMP_tutorial.ipynb",
      "provenance": [],
      "collapsed_sections": [],
      "toc_visible": true,
      "include_colab_link": true
    },
    "kernelspec": {
      "name": "python3",
      "display_name": "Python 3"
    }
  },
  "cells": [
    {
      "cell_type": "markdown",
      "metadata": {
        "id": "view-in-github",
        "colab_type": "text"
      },
      "source": [
        "<a href=\"https://colab.research.google.com/github/nazbeh/I_C_M_E_2020/blob/master/Workshop4/OpenMP_tutorial.ipynb\" target=\"_parent\"><img src=\"https://colab.research.google.com/assets/colab-badge.svg\" alt=\"Open In Colab\"/></a>"
      ]
    },
    {
      "cell_type": "markdown",
      "metadata": {
        "id": "m668PjUbWux-",
        "colab_type": "text"
      },
      "source": [
        "# OpenMP Tutorial "
      ]
    },
    {
      "cell_type": "markdown",
      "metadata": {
        "id": "_6JwAqiVRlNn",
        "colab_type": "text"
      },
      "source": [
        "## Hello World"
      ]
    },
    {
      "cell_type": "code",
      "metadata": {
        "id": "fCT-XuNJRphs",
        "colab_type": "code",
        "colab": {}
      },
      "source": [
        "%%file  hello_world_openmp.c\n",
        "  \n",
        "// OpenMP header \n",
        "#include <omp.h>\n",
        "#include <stdio.h>\n",
        "\n",
        "int main(){\n",
        "\n",
        "\n",
        "    #pragma omp parallel\n",
        "    {\n",
        "        int thread_id = omp_get_thread_num();\n",
        "        int total_thread = omp_get_num_threads();\n",
        "        printf(\"Hello I am thread %d out of %d\\n\",thread_id, total_thread);\n",
        "    }\n",
        "}\n",
        "\n"
      ],
      "execution_count": null,
      "outputs": []
    },
    {
      "cell_type": "markdown",
      "metadata": {
        "id": "tKNWRC9EaYvH",
        "colab_type": "text"
      },
      "source": [
        "Compile with ```-fopenmp``` flag\n",
        "\n"
      ]
    },
    {
      "cell_type": "code",
      "metadata": {
        "id": "O4WLoc8sSEpH",
        "colab_type": "code",
        "colab": {}
      },
      "source": [
        "!gcc -o hello_openmp -fopenmp hello_world_openmp.c"
      ],
      "execution_count": null,
      "outputs": []
    },
    {
      "cell_type": "markdown",
      "metadata": {
        "id": "mTZZh7NAahe0",
        "colab_type": "text"
      },
      "source": [
        "Execute with environment variable ```OMP_NUM_THREADS=```"
      ]
    },
    {
      "cell_type": "code",
      "metadata": {
        "id": "HKTb6yPbSGDd",
        "colab_type": "code",
        "colab": {}
      },
      "source": [
        "!OMP_NUM_THREADS=4 ./hello_openmp"
      ],
      "execution_count": null,
      "outputs": []
    },
    {
      "cell_type": "markdown",
      "metadata": {
        "id": "yh_if-kWXSNS",
        "colab_type": "text"
      },
      "source": [
        "## Example: Computing Pi"
      ]
    },
    {
      "cell_type": "markdown",
      "metadata": {
        "id": "6sQfq9aiZhOL",
        "colab_type": "text"
      },
      "source": [
        "### Serial Version"
      ]
    },
    {
      "cell_type": "code",
      "metadata": {
        "id": "FuWTNoycY8LB",
        "colab_type": "code",
        "colab": {}
      },
      "source": [
        "%%file pi_serial.c\n",
        "#include <stdio.h>\n",
        "\n",
        "int main(){\n",
        "    double sum = 0;\n",
        "    int n = 10000;\n",
        "    for(int i = 0; i<n; ++i){\n",
        "        sum += 4./ (1.+(i+0.5)*(i+0.5)/(double)(n*n))*1./(double) n; \n",
        "    }\n",
        "    printf(\"Pi is %f\\n\",sum);\n",
        "}"
      ],
      "execution_count": null,
      "outputs": []
    },
    {
      "cell_type": "code",
      "metadata": {
        "id": "Cf9Gis2FYCkz",
        "colab_type": "code",
        "colab": {}
      },
      "source": [
        "!gcc -o pi_serial pi_serial.c"
      ],
      "execution_count": null,
      "outputs": []
    },
    {
      "cell_type": "code",
      "metadata": {
        "id": "i4FJNCTkZgBO",
        "colab_type": "code",
        "colab": {}
      },
      "source": [
        "!./pi_serial"
      ],
      "execution_count": null,
      "outputs": []
    },
    {
      "cell_type": "markdown",
      "metadata": {
        "id": "YFBnXPLzZnwF",
        "colab_type": "text"
      },
      "source": [
        "### OpenMP version"
      ]
    },
    {
      "cell_type": "code",
      "metadata": {
        "id": "3slFv4aTXVA7",
        "colab_type": "code",
        "colab": {}
      },
      "source": [
        "%%file pi_openmp.c\n",
        "// OpenMP header \n",
        "#include <omp.h>\n",
        "#include <stdio.h>\n",
        "\n",
        "int main(){\n",
        "    double sum = 0;\n",
        "    int n = 10000;\n",
        "    #pragma omp parallel for reduction(+:sum)\n",
        "    for(int i = 0; i<n; ++i){\n",
        "        sum += 4./ (1.+(i+0.5)*(i+0.5)/(double)(n*n))*1./(double) n; \n",
        "    }\n",
        "    printf(\"Pi is %f\\n\",sum);\n",
        "}"
      ],
      "execution_count": null,
      "outputs": []
    },
    {
      "cell_type": "code",
      "metadata": {
        "id": "YZSmGpc_aIkL",
        "colab_type": "code",
        "colab": {}
      },
      "source": [
        "!gcc -o pi_openmp -fopenmp pi_openmp.c"
      ],
      "execution_count": null,
      "outputs": []
    },
    {
      "cell_type": "code",
      "metadata": {
        "id": "3NrEacOTaQXZ",
        "colab_type": "code",
        "colab": {}
      },
      "source": [
        "!OMP_NUM_THREADS=4 ./pi_openmp"
      ],
      "execution_count": null,
      "outputs": []
    },
    {
      "cell_type": "markdown",
      "metadata": {
        "id": "YCehOurlbirn",
        "colab_type": "text"
      },
      "source": [
        "## Example: Difference in Variable types\n",
        "Notice the difference when defining the variable types inside parallel region. Change ```private``` by ```firstprivate```, ```lastprivate``` or ```shared``` and see how the output changes \n",
        "\n"
      ]
    },
    {
      "cell_type": "code",
      "metadata": {
        "id": "Gq6Y7A9gbxDb",
        "colab_type": "code",
        "colab": {}
      },
      "source": [
        "%%file variable_types.cpp\n",
        "#include <omp.h>\n",
        "#include <stdio.h>\n",
        "int main(){\n",
        "    int value = 6;\n",
        "    int n = 3;\n",
        "    #pragma omp parallel for num_threads(n) shared(value)\n",
        "    for (int i = 0; i<n; ++i){\n",
        "        int id = omp_get_thread_num();\n",
        "        value = value + id;\n",
        "        printf(\"value is %d in proc %d\\n\", value, id);\n",
        "    }\n",
        "    printf(\"value is %d\\n\", value);\n",
        "}\n",
        "\n"
      ],
      "execution_count": null,
      "outputs": []
    },
    {
      "cell_type": "code",
      "metadata": {
        "id": "QpL_Ro7KcoYS",
        "colab_type": "code",
        "colab": {}
      },
      "source": [
        "!g++ -o variable_types -fopenmp variable_types.cpp"
      ],
      "execution_count": null,
      "outputs": []
    },
    {
      "cell_type": "code",
      "metadata": {
        "id": "riQI3gapc5eS",
        "colab_type": "code",
        "colab": {}
      },
      "source": [
        "!OMP_NUM_THREADS=3 ./variable_types"
      ],
      "execution_count": null,
      "outputs": []
    },
    {
      "cell_type": "markdown",
      "metadata": {
        "id": "pD6wZA_td1j5",
        "colab_type": "text"
      },
      "source": [
        "## Exercise: Page Rank"
      ]
    },
    {
      "cell_type": "markdown",
      "metadata": {
        "id": "ughDY7Z9diZ1",
        "colab_type": "text"
      },
      "source": [
        "### Serial Version"
      ]
    },
    {
      "cell_type": "code",
      "metadata": {
        "id": "_gQ8HQt92EDm",
        "colab_type": "code",
        "colab": {}
      },
      "source": [
        "%%file pagerank.cpp\n",
        "#include <stdio.h>\n",
        "#include <stdlib.h>\n",
        "#include <vector>\n",
        "\n",
        "void addEdge(std::vector<int> adj[],double w[],int u, int v) \n",
        "{ \n",
        "    adj[v].push_back(u); \n",
        "    w[u] += 1;\n",
        "}\n",
        "\n",
        "int main() \n",
        "{ \n",
        "    //Create vector of data\n",
        "    int V = 6; \n",
        "    std::vector<int> adj[V];\n",
        "    double w[V] = {0};\n",
        "    \n",
        "    // Creates a graph\n",
        "    addEdge(adj,w,0,1);\n",
        "    addEdge(adj,w,1,2);\n",
        "    addEdge(adj,w,2,3);\n",
        "    addEdge(adj,w,5,2);\n",
        "    addEdge(adj,w,5,3);\n",
        "    addEdge(adj,w,1,3);\n",
        "    addEdge(adj,w,4,5);\n",
        "    addEdge(adj,w,3,2);\n",
        "    addEdge(adj,w,3,4);\n",
        "    addEdge(adj,w,3,5);\n",
        "    addEdge(adj,w,0,2);\n",
        "    \n",
        "    size_t niter = 10;\n",
        " \n",
        "    double r[V] = {0};\n",
        "    double rn[V] = {0};\n",
        "\n",
        "    for(int point = 0; point < V; ++point)\n",
        "    { \n",
        "      r[point] = 1;\n",
        "    }\n",
        "\n",
        "\n",
        "    for(size_t it = 0; it < niter; ++it)\n",
        "    {\n",
        "       for(int point = 0; point < V; ++point)\n",
        "       { \n",
        "           rn[point] = 0;\n",
        "           for(auto& neigh:adj[point]){\n",
        "               rn[point] += r[neigh]/w[neigh];\n",
        "           }\n",
        "       }\n",
        "       for(int point = 0; point < V; ++point)\n",
        "       {\n",
        "           r[point] = rn[point];\n",
        "           printf(\"r[%d]=%f, \",point,r[point]);\n",
        "       }\n",
        "      printf(\"\\n\");\n",
        "    }\n",
        "    return 0; \n",
        "} "
      ],
      "execution_count": null,
      "outputs": []
    },
    {
      "cell_type": "code",
      "metadata": {
        "id": "iw27Qywn6JxJ",
        "colab_type": "code",
        "colab": {}
      },
      "source": [
        "!g++ -o pagerank pagerank.cpp"
      ],
      "execution_count": null,
      "outputs": []
    },
    {
      "cell_type": "code",
      "metadata": {
        "id": "ZV_3e2ri6RDT",
        "colab_type": "code",
        "colab": {}
      },
      "source": [
        "!./pagerank"
      ],
      "execution_count": null,
      "outputs": []
    },
    {
      "cell_type": "markdown",
      "metadata": {
        "id": "aRFOZUvGeO0f",
        "colab_type": "text"
      },
      "source": [
        "### OpenMP version"
      ]
    },
    {
      "cell_type": "markdown",
      "metadata": {
        "id": "dDj78ab7Dxe4",
        "colab_type": "text"
      },
      "source": [
        "Complete the ```//To do``` sections\n",
        "\n"
      ]
    },
    {
      "cell_type": "code",
      "metadata": {
        "id": "KA4P9SZTeTe5",
        "colab_type": "code",
        "colab": {}
      },
      "source": [
        "%%file pagerank_openmp.cpp\n",
        "//To do here: Include omp header\n",
        "\n",
        "#include <stdio.h>\n",
        "#include <stdlib.h>\n",
        "#include <vector>\n",
        "\n",
        "void addEdge(std::vector<int> adj[],double w[],int u, int v) \n",
        "{ \n",
        "    adj[v].push_back(u); \n",
        "    w[u] += 1;\n",
        "}\n",
        "\n",
        "int main() \n",
        "{ \n",
        "    //Create vector of data\n",
        "    int V = 6; \n",
        "    std::vector<int> adj[V];\n",
        "    double w[V] = {0};\n",
        "    \n",
        "    // Creates a graph\n",
        "    addEdge(adj,w,0,1);\n",
        "    addEdge(adj,w,1,2);\n",
        "    addEdge(adj,w,2,3);\n",
        "    addEdge(adj,w,5,2);\n",
        "    addEdge(adj,w,5,3);\n",
        "    addEdge(adj,w,1,3);\n",
        "    addEdge(adj,w,4,5);\n",
        "    addEdge(adj,w,3,2);\n",
        "    addEdge(adj,w,3,4);\n",
        "    addEdge(adj,w,3,5);\n",
        "    addEdge(adj,w,0,2);\n",
        "    \n",
        "    size_t niter = 10;\n",
        " \n",
        "    double r[V] = {0};\n",
        "    double rn[V] = {0};\n",
        "\n",
        "    for(int point = 0; point < V; ++point)\n",
        "    { \n",
        "      r[point] = 1;\n",
        "    }\n",
        "\n",
        "    //To do here: Create parallelizable regions wherever is possible\n",
        " \n",
        "    for(size_t it = 0; it < niter; ++it)\n",
        "    {\n",
        "       for(int point = 0; point < V; ++point)\n",
        "       { \n",
        "           rn[point] = 0;\n",
        "           for(auto& neigh:adj[point]){\n",
        "               rn[point] += r[neigh]/w[neigh];\n",
        "           }\n",
        "       }\n",
        "     \n",
        "       for(int point = 0; point < V; ++point)\n",
        "       {\n",
        "           r[point] = rn[point];\n",
        "           printf(\"r[%d]=%f, \",point,r[point]);\n",
        "       }\n",
        "      printf(\"\\n\");\n",
        "    }\n",
        "    return 0; \n",
        "}"
      ],
      "execution_count": null,
      "outputs": []
    },
    {
      "cell_type": "markdown",
      "metadata": {
        "id": "2cvUcry2EAD9",
        "colab_type": "text"
      },
      "source": [
        "Once it is ready, compile and execute"
      ]
    },
    {
      "cell_type": "code",
      "metadata": {
        "id": "vPgOWLC-esFy",
        "colab_type": "code",
        "colab": {}
      },
      "source": [
        "!g++ -o pagerank_openmp -fopenmp pagerank_openmp.cpp"
      ],
      "execution_count": null,
      "outputs": []
    },
    {
      "cell_type": "code",
      "metadata": {
        "id": "tCp8n4Kkeyba",
        "colab_type": "code",
        "colab": {}
      },
      "source": [
        "!OMP_NUM_THREADS=3 ./pagerank_openmp"
      ],
      "execution_count": null,
      "outputs": []
    },
    {
      "cell_type": "markdown",
      "metadata": {
        "id": "CV-g5KIVd57Q",
        "colab_type": "text"
      },
      "source": [
        "## Exercise: K Means"
      ]
    },
    {
      "cell_type": "markdown",
      "metadata": {
        "id": "81omcF8qfBXn",
        "colab_type": "text"
      },
      "source": [
        "### Serial Version\n",
        "\n",
        "Code inspired in the blog: http://www.goldsborough.me/c++/python/cuda/2017/09/10/20-32-46-exploring_k-means_in_python,_c++_and_cuda/ that compares C++ ,Python and CUDA approaches"
      ]
    },
    {
      "cell_type": "code",
      "metadata": {
        "id": "f5mKEMzZd9Tb",
        "colab_type": "code",
        "colab": {}
      },
      "source": [
        "%%file kmeans.cpp\n",
        "#include <algorithm>\n",
        "#include <cstdlib>\n",
        "#include <limits>\n",
        "#include <random>\n",
        "#include <vector>\n",
        "\n",
        "struct Point {\n",
        "  double x{0}, y{0};\n",
        "};\n",
        "\n",
        "using DataFrame = std::vector<Point>;\n",
        "\n",
        "double squared_l2_distance(Point first, Point second) {\n",
        "  return std::pow(first.x - second.x,2) + std::pow(first.y - second.y,2);\n",
        "}\n",
        "\n",
        "int main (){\n",
        "  size_t niter = 10;\n",
        "  size_t k = 2;\n",
        "  DataFrame data = {Point{1,2},Point{1,2},Point{3,4},Point{10,4},Point{3,4}};\n",
        "  \n",
        "  // Pick centroids as random points from the dataset.\n",
        "  static std::random_device seed;\n",
        "  static std::mt19937 random_number_generator(seed());\n",
        "  std::uniform_int_distribution<size_t> indices(0, data.size() - 1);\n",
        "\n",
        "  DataFrame means(k);\n",
        "  for (auto& cluster : means) {\n",
        "    cluster = data[indices(random_number_generator)];\n",
        "  }\n",
        "\n",
        "\n",
        "  // Find assignments \n",
        "  std::vector<size_t> assignments(data.size());\n",
        "  for (size_t it = 0; it < niter; ++it) {\n",
        "    for (size_t point = 0; point < data.size(); ++point) {\n",
        "      \n",
        "      double min_distance = std::numeric_limits<double>::max();\n",
        "      size_t best_cluster = 0;\n",
        "      \n",
        "      for (size_t cluster = 0; cluster < k; ++cluster) {\n",
        "        const double distance =\n",
        "            squared_l2_distance(data[point], means[cluster]);\n",
        "        if (distance < min_distance) {\n",
        "          min_distance = distance;\n",
        "          best_cluster = cluster;\n",
        "        }\n",
        "      }\n",
        "\n",
        "      assignments[point] = best_cluster;\n",
        "    }\n",
        "\n",
        "    // Sum up and count points for each cluster.\n",
        "    DataFrame new_means(k);\n",
        "    std::vector<size_t> counts(k, 0);\n",
        "    for (size_t point = 0; point < data.size(); ++point) {\n",
        "      const auto cluster = assignments[point];\n",
        "      new_means[cluster].x += data[point].x;\n",
        "      new_means[cluster].y += data[point].y;\n",
        "      counts[cluster] += 1;\n",
        "    }\n",
        "\n",
        "    // Divide sums by counts to get new centroids.\n",
        "    for (size_t cluster = 0; cluster < k; ++cluster) {\n",
        "      // Turn 0/0 into 0/1 to avoid zero division.\n",
        "      const auto count = std::max<size_t>(1, counts[cluster]);\n",
        "      means[cluster].x = new_means[cluster].x / count;\n",
        "      means[cluster].y = new_means[cluster].y / count;\n",
        "    }\n",
        "  }\n",
        "\n",
        "  for (auto& centroid : means) {\n",
        "    printf(\"(%f,%f)\",centroid.x,centroid.y);\n",
        "  }\n",
        "}\n"
      ],
      "execution_count": null,
      "outputs": []
    },
    {
      "cell_type": "code",
      "metadata": {
        "id": "4LtwaN6QvHmp",
        "colab_type": "code",
        "colab": {}
      },
      "source": [
        "!g++ -o kmeans kmeans.cpp"
      ],
      "execution_count": null,
      "outputs": []
    },
    {
      "cell_type": "code",
      "metadata": {
        "id": "QcwhvWnMv9cX",
        "colab_type": "code",
        "colab": {}
      },
      "source": [
        "!./kmeans"
      ],
      "execution_count": null,
      "outputs": []
    },
    {
      "cell_type": "markdown",
      "metadata": {
        "id": "ne7YCW6tfkTj",
        "colab_type": "text"
      },
      "source": [
        "### OpenMP version\n",
        "\n",
        "To do: Modify the serial version using the least effort to make the code parallel using OpenMP, compile accordingly and execute using multiple threads"
      ]
    },
    {
      "cell_type": "code",
      "metadata": {
        "id": "SpW_a-6cfxK9",
        "colab_type": "code",
        "colab": {}
      },
      "source": [
        "%%file kmeans_openmp.cpp\n",
        "\n"
      ],
      "execution_count": null,
      "outputs": []
    },
    {
      "cell_type": "code",
      "metadata": {
        "id": "jq7y_YjsgsRX",
        "colab_type": "code",
        "colab": {}
      },
      "source": [
        "!g++ "
      ],
      "execution_count": null,
      "outputs": []
    },
    {
      "cell_type": "code",
      "metadata": {
        "id": "XdcyYxsmg9yY",
        "colab_type": "code",
        "colab": {}
      },
      "source": [
        "!"
      ],
      "execution_count": null,
      "outputs": []
    }
  ]
}